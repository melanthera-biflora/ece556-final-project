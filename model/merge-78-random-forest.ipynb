{
 "cells": [
  {
   "cell_type": "code",
   "execution_count": 1,
   "id": "43d69bfe",
   "metadata": {
    "_cell_guid": "b1076dfc-b9ad-4769-8c92-a6c4dae69d19",
    "_uuid": "8f2839f25d086af736a60e9eeb907d3b93b6e0e5",
    "execution": {
     "iopub.execute_input": "2025-05-06T05:56:42.578522Z",
     "iopub.status.busy": "2025-05-06T05:56:42.578141Z",
     "iopub.status.idle": "2025-05-06T05:56:47.074028Z",
     "shell.execute_reply": "2025-05-06T05:56:47.073161Z"
    },
    "papermill": {
     "duration": 4.504058,
     "end_time": "2025-05-06T05:56:47.075779",
     "exception": false,
     "start_time": "2025-05-06T05:56:42.571721",
     "status": "completed"
    },
    "tags": []
   },
   "outputs": [],
   "source": [
    "import numpy as np\n",
    "import pandas as pd\n",
    "from sklearn.ensemble import RandomForestRegressor\n",
    "from sklearn.model_selection import train_test_split\n",
    "from sklearn.metrics import mean_squared_error, r2_score, mean_absolute_error\n",
    "from sklearn.model_selection import GridSearchCV\n",
    "import seaborn as sns\n",
    "from sklearn.feature_selection import RFE"
   ]
  },
  {
   "cell_type": "code",
   "execution_count": 2,
   "id": "562e01ed",
   "metadata": {
    "execution": {
     "iopub.execute_input": "2025-05-06T05:56:47.087494Z",
     "iopub.status.busy": "2025-05-06T05:56:47.086515Z",
     "iopub.status.idle": "2025-05-06T05:56:47.123386Z",
     "shell.execute_reply": "2025-05-06T05:56:47.122552Z"
    },
    "papermill": {
     "duration": 0.044428,
     "end_time": "2025-05-06T05:56:47.125058",
     "exception": false,
     "start_time": "2025-05-06T05:56:47.080630",
     "status": "completed"
    },
    "tags": []
   },
   "outputs": [],
   "source": [
    "training_data = pd.read_csv('/kaggle/input/mekong-training-testing-set/merged_train.csv')\n",
    "testing_data = pd.read_csv('/kaggle/input/mekong-training-testing-set/merged_test.csv')"
   ]
  },
  {
   "cell_type": "code",
   "execution_count": 3,
   "id": "cecabb1c",
   "metadata": {
    "execution": {
     "iopub.execute_input": "2025-05-06T05:56:47.135133Z",
     "iopub.status.busy": "2025-05-06T05:56:47.134842Z",
     "iopub.status.idle": "2025-05-06T05:56:47.139615Z",
     "shell.execute_reply": "2025-05-06T05:56:47.138896Z"
    },
    "papermill": {
     "duration": 0.011366,
     "end_time": "2025-05-06T05:56:47.141012",
     "exception": false,
     "start_time": "2025-05-06T05:56:47.129646",
     "status": "completed"
    },
    "tags": []
   },
   "outputs": [],
   "source": [
    "# Change the type into date time\n",
    "def into_datetime(df):\n",
    "    df['date'] = pd.to_datetime(df['date'])\n",
    "    df['month'] = df['date'].dt.month\n",
    "    df['year'] = df['date'].dt.year"
   ]
  },
  {
   "cell_type": "code",
   "execution_count": 4,
   "id": "12591c0a",
   "metadata": {
    "execution": {
     "iopub.execute_input": "2025-05-06T05:56:47.151482Z",
     "iopub.status.busy": "2025-05-06T05:56:47.151117Z",
     "iopub.status.idle": "2025-05-06T05:56:47.175303Z",
     "shell.execute_reply": "2025-05-06T05:56:47.174307Z"
    },
    "papermill": {
     "duration": 0.031267,
     "end_time": "2025-05-06T05:56:47.177123",
     "exception": false,
     "start_time": "2025-05-06T05:56:47.145856",
     "status": "completed"
    },
    "tags": []
   },
   "outputs": [],
   "source": [
    "into_datetime(training_data)\n",
    "into_datetime(testing_data)"
   ]
  },
  {
   "cell_type": "code",
   "execution_count": 5,
   "id": "f8e2e0be",
   "metadata": {
    "execution": {
     "iopub.execute_input": "2025-05-06T05:56:47.187702Z",
     "iopub.status.busy": "2025-05-06T05:56:47.187372Z",
     "iopub.status.idle": "2025-05-06T05:56:47.206963Z",
     "shell.execute_reply": "2025-05-06T05:56:47.205818Z"
    },
    "papermill": {
     "duration": 0.026601,
     "end_time": "2025-05-06T05:56:47.208451",
     "exception": false,
     "start_time": "2025-05-06T05:56:47.181850",
     "status": "completed"
    },
    "tags": []
   },
   "outputs": [
    {
     "name": "stdout",
     "output_type": "stream",
     "text": [
      "<class 'pandas.core.frame.DataFrame'>\n",
      "RangeIndex: 223 entries, 0 to 222\n",
      "Data columns (total 37 columns):\n",
      " #   Column     Non-Null Count  Dtype         \n",
      "---  ------     --------------  -----         \n",
      " 0   AWEInsh    223 non-null    float64       \n",
      " 1   AWEIsh     223 non-null    float64       \n",
      " 2   MNDWI      223 non-null    float64       \n",
      " 3   NDWI       223 non-null    float64       \n",
      " 4   SR_B1      223 non-null    float64       \n",
      " 5   SR_B2      223 non-null    float64       \n",
      " 6   SR_B3      223 non-null    float64       \n",
      " 7   SR_B4      223 non-null    float64       \n",
      " 8   SR_B5      223 non-null    float64       \n",
      " 9   SR_B7      223 non-null    float64       \n",
      " 10  WI1        223 non-null    float64       \n",
      " 11  WI2        223 non-null    float64       \n",
      " 12  date       223 non-null    datetime64[ns]\n",
      " 13  pivot      223 non-null    int64         \n",
      " 14  reducer    223 non-null    object        \n",
      " 15  source     223 non-null    object        \n",
      " 16  Station    223 non-null    object        \n",
      " 17  Latitude   223 non-null    float64       \n",
      " 18  Longitude  223 non-null    float64       \n",
      " 19  1          223 non-null    float64       \n",
      " 20  3          223 non-null    float64       \n",
      " 21  5          223 non-null    float64       \n",
      " 22  7          223 non-null    float64       \n",
      " 23  9          223 non-null    float64       \n",
      " 24  11         223 non-null    float64       \n",
      " 25  13         223 non-null    float64       \n",
      " 26  15         223 non-null    float64       \n",
      " 27  17         223 non-null    float64       \n",
      " 28  19         223 non-null    float64       \n",
      " 29  21         223 non-null    float64       \n",
      " 30  23         223 non-null    float64       \n",
      " 31  min        223 non-null    float64       \n",
      " 32  max        223 non-null    float64       \n",
      " 33  mean       223 non-null    float64       \n",
      " 34  median     223 non-null    float64       \n",
      " 35  month      223 non-null    int32         \n",
      " 36  year       223 non-null    int32         \n",
      "dtypes: datetime64[ns](1), float64(30), int32(2), int64(1), object(3)\n",
      "memory usage: 62.8+ KB\n"
     ]
    }
   ],
   "source": [
    "training_data.info()"
   ]
  },
  {
   "cell_type": "code",
   "execution_count": 6,
   "id": "1855c634",
   "metadata": {
    "execution": {
     "iopub.execute_input": "2025-05-06T05:56:47.218610Z",
     "iopub.status.busy": "2025-05-06T05:56:47.218280Z",
     "iopub.status.idle": "2025-05-06T05:56:47.230174Z",
     "shell.execute_reply": "2025-05-06T05:56:47.229123Z"
    },
    "papermill": {
     "duration": 0.018541,
     "end_time": "2025-05-06T05:56:47.231627",
     "exception": false,
     "start_time": "2025-05-06T05:56:47.213086",
     "status": "completed"
    },
    "tags": []
   },
   "outputs": [
    {
     "name": "stdout",
     "output_type": "stream",
     "text": [
      "<class 'pandas.core.frame.DataFrame'>\n",
      "RangeIndex: 35 entries, 0 to 34\n",
      "Data columns (total 37 columns):\n",
      " #   Column     Non-Null Count  Dtype         \n",
      "---  ------     --------------  -----         \n",
      " 0   AWEInsh    35 non-null     float64       \n",
      " 1   AWEIsh     35 non-null     float64       \n",
      " 2   MNDWI      35 non-null     float64       \n",
      " 3   NDWI       35 non-null     float64       \n",
      " 4   SR_B1      35 non-null     float64       \n",
      " 5   SR_B2      35 non-null     float64       \n",
      " 6   SR_B3      35 non-null     float64       \n",
      " 7   SR_B4      35 non-null     float64       \n",
      " 8   SR_B5      35 non-null     float64       \n",
      " 9   SR_B7      35 non-null     float64       \n",
      " 10  WI1        35 non-null     float64       \n",
      " 11  WI2        35 non-null     float64       \n",
      " 12  date       35 non-null     datetime64[ns]\n",
      " 13  pivot      35 non-null     int64         \n",
      " 14  reducer    35 non-null     object        \n",
      " 15  source     35 non-null     object        \n",
      " 16  Station    35 non-null     object        \n",
      " 17  Latitude   35 non-null     float64       \n",
      " 18  Longitude  35 non-null     float64       \n",
      " 19  1          35 non-null     float64       \n",
      " 20  3          35 non-null     float64       \n",
      " 21  5          35 non-null     float64       \n",
      " 22  7          35 non-null     float64       \n",
      " 23  9          35 non-null     float64       \n",
      " 24  11         35 non-null     float64       \n",
      " 25  13         35 non-null     float64       \n",
      " 26  15         35 non-null     float64       \n",
      " 27  17         35 non-null     float64       \n",
      " 28  19         35 non-null     float64       \n",
      " 29  21         35 non-null     float64       \n",
      " 30  23         35 non-null     float64       \n",
      " 31  min        35 non-null     float64       \n",
      " 32  max        35 non-null     float64       \n",
      " 33  mean       35 non-null     float64       \n",
      " 34  median     35 non-null     float64       \n",
      " 35  month      35 non-null     int32         \n",
      " 36  year       35 non-null     int32         \n",
      "dtypes: datetime64[ns](1), float64(30), int32(2), int64(1), object(3)\n",
      "memory usage: 10.0+ KB\n"
     ]
    }
   ],
   "source": [
    "testing_data.info()"
   ]
  },
  {
   "cell_type": "code",
   "execution_count": 7,
   "id": "168b7446",
   "metadata": {
    "execution": {
     "iopub.execute_input": "2025-05-06T05:56:47.242013Z",
     "iopub.status.busy": "2025-05-06T05:56:47.241688Z",
     "iopub.status.idle": "2025-05-06T05:56:47.261605Z",
     "shell.execute_reply": "2025-05-06T05:56:47.260820Z"
    },
    "papermill": {
     "duration": 0.026581,
     "end_time": "2025-05-06T05:56:47.262928",
     "exception": false,
     "start_time": "2025-05-06T05:56:47.236347",
     "status": "completed"
    },
    "tags": []
   },
   "outputs": [],
   "source": [
    "training_data['month_sin'] = np.sin(2 * np.pi * training_data['month'] / 12)\n",
    "training_data['month_cos'] = np.cos(2 * np.pi * training_data['month'] / 12)\n",
    "testing_data['month_sin'] = np.sin(2 * np.pi * testing_data['month'] / 12)\n",
    "testing_data['month_cos'] = np.cos(2 * np.pi * testing_data['month'] / 12)"
   ]
  },
  {
   "cell_type": "code",
   "execution_count": 8,
   "id": "b9069351",
   "metadata": {
    "execution": {
     "iopub.execute_input": "2025-05-06T05:56:47.273798Z",
     "iopub.status.busy": "2025-05-06T05:56:47.273501Z",
     "iopub.status.idle": "2025-05-06T05:56:47.278204Z",
     "shell.execute_reply": "2025-05-06T05:56:47.277338Z"
    },
    "papermill": {
     "duration": 0.011941,
     "end_time": "2025-05-06T05:56:47.279713",
     "exception": false,
     "start_time": "2025-05-06T05:56:47.267772",
     "status": "completed"
    },
    "tags": []
   },
   "outputs": [],
   "source": [
    "features = [ 'SR_B5', 'SR_B7',  'Latitude', 'Longitude', \n",
    "            'AWEInsh', 'AWEIsh', 'MNDWI', 'NDWI', 'SR_B1', \n",
    "            'SR_B4', 'WI1', 'WI2', 'month_sin', 'month_cos', 'year' ]"
   ]
  },
  {
   "cell_type": "code",
   "execution_count": 9,
   "id": "3c74502b",
   "metadata": {
    "execution": {
     "iopub.execute_input": "2025-05-06T05:56:47.290084Z",
     "iopub.status.busy": "2025-05-06T05:56:47.289786Z",
     "iopub.status.idle": "2025-05-06T05:56:47.293756Z",
     "shell.execute_reply": "2025-05-06T05:56:47.292980Z"
    },
    "papermill": {
     "duration": 0.010647,
     "end_time": "2025-05-06T05:56:47.295086",
     "exception": false,
     "start_time": "2025-05-06T05:56:47.284439",
     "status": "completed"
    },
    "tags": []
   },
   "outputs": [],
   "source": [
    "target = 'max'"
   ]
  },
  {
   "cell_type": "code",
   "execution_count": 10,
   "id": "98dd5861",
   "metadata": {
    "execution": {
     "iopub.execute_input": "2025-05-06T05:56:47.305842Z",
     "iopub.status.busy": "2025-05-06T05:56:47.305055Z",
     "iopub.status.idle": "2025-05-06T05:56:47.312707Z",
     "shell.execute_reply": "2025-05-06T05:56:47.311934Z"
    },
    "papermill": {
     "duration": 0.014256,
     "end_time": "2025-05-06T05:56:47.314029",
     "exception": false,
     "start_time": "2025-05-06T05:56:47.299773",
     "status": "completed"
    },
    "tags": []
   },
   "outputs": [],
   "source": [
    "# Split data\n",
    "X_train = training_data[features]\n",
    "y_train = training_data[target]\n",
    "X_test = testing_data[features]\n",
    "y_test = testing_data[target]"
   ]
  },
  {
   "cell_type": "code",
   "execution_count": 11,
   "id": "fcb287d0",
   "metadata": {
    "execution": {
     "iopub.execute_input": "2025-05-06T05:56:47.324668Z",
     "iopub.status.busy": "2025-05-06T05:56:47.324099Z",
     "iopub.status.idle": "2025-05-06T05:56:47.337828Z",
     "shell.execute_reply": "2025-05-06T05:56:47.336662Z"
    },
    "papermill": {
     "duration": 0.02066,
     "end_time": "2025-05-06T05:56:47.339318",
     "exception": false,
     "start_time": "2025-05-06T05:56:47.318658",
     "status": "completed"
    },
    "tags": []
   },
   "outputs": [
    {
     "name": "stdout",
     "output_type": "stream",
     "text": [
      "Training Target Summary:\n",
      "count    223.000000\n",
      "mean      10.682063\n",
      "std        8.359002\n",
      "min        0.100000\n",
      "25%        3.900000\n",
      "50%        9.200000\n",
      "75%       17.050000\n",
      "max       39.000000\n",
      "Name: max, dtype: float64\n",
      "\n",
      "Testing Target Summary:\n",
      "count    35.000000\n",
      "mean      7.334286\n",
      "std       7.547222\n",
      "min       0.100000\n",
      "25%       1.000000\n",
      "50%       5.400000\n",
      "75%      11.600000\n",
      "max      31.000000\n",
      "Name: max, dtype: float64\n"
     ]
    }
   ],
   "source": [
    "print(\"Training Target Summary:\")\n",
    "print(y_train.describe())\n",
    "\n",
    "print(\"\\nTesting Target Summary:\")\n",
    "print(y_test.describe())"
   ]
  },
  {
   "cell_type": "code",
   "execution_count": 12,
   "id": "fd5ec175",
   "metadata": {
    "execution": {
     "iopub.execute_input": "2025-05-06T05:56:47.349825Z",
     "iopub.status.busy": "2025-05-06T05:56:47.349525Z",
     "iopub.status.idle": "2025-05-06T05:56:47.353665Z",
     "shell.execute_reply": "2025-05-06T05:56:47.352923Z"
    },
    "papermill": {
     "duration": 0.011078,
     "end_time": "2025-05-06T05:56:47.355034",
     "exception": false,
     "start_time": "2025-05-06T05:56:47.343956",
     "status": "completed"
    },
    "tags": []
   },
   "outputs": [],
   "source": [
    "# Define model\n",
    "model = RandomForestRegressor(random_state=42)"
   ]
  },
  {
   "cell_type": "code",
   "execution_count": 13,
   "id": "cd1fe06f",
   "metadata": {
    "execution": {
     "iopub.execute_input": "2025-05-06T05:56:47.365433Z",
     "iopub.status.busy": "2025-05-06T05:56:47.365111Z",
     "iopub.status.idle": "2025-05-06T05:56:48.710079Z",
     "shell.execute_reply": "2025-05-06T05:56:48.709296Z"
    },
    "papermill": {
     "duration": 1.351992,
     "end_time": "2025-05-06T05:56:48.711681",
     "exception": false,
     "start_time": "2025-05-06T05:56:47.359689",
     "status": "completed"
    },
    "tags": []
   },
   "outputs": [],
   "source": [
    "# Apply RFE\n",
    "rfe = RFE(estimator=model, n_features_to_select=10)  # Choose number of features\n",
    "X_train_rfe = rfe.fit_transform(X_train, y_train)\n",
    "X_test_rfe = rfe.transform(X_test)"
   ]
  },
  {
   "cell_type": "code",
   "execution_count": 14,
   "id": "c0716b18",
   "metadata": {
    "execution": {
     "iopub.execute_input": "2025-05-06T05:56:48.722011Z",
     "iopub.status.busy": "2025-05-06T05:56:48.721708Z",
     "iopub.status.idle": "2025-05-06T05:56:48.726335Z",
     "shell.execute_reply": "2025-05-06T05:56:48.725609Z"
    },
    "papermill": {
     "duration": 0.011203,
     "end_time": "2025-05-06T05:56:48.727521",
     "exception": false,
     "start_time": "2025-05-06T05:56:48.716318",
     "status": "completed"
    },
    "tags": []
   },
   "outputs": [],
   "source": [
    "param_grid = {\n",
    "    'n_estimators': [100, 150],             # Fewer trees to reduce variance\n",
    "    'max_depth': [2,3],                 # Shallow trees generalize better\n",
    "    'min_samples_split': [8, 10, 12],       # Require more samples to split\n",
    "    'min_samples_leaf': [6,8,10],          # Larger leaf nodes\n",
    "    'max_features': [0.4, 0.6, 0.8],        # Fewer features per split\n",
    "    'bootstrap': [True]                     # Use randomness to avoid overfitting\n",
    "}"
   ]
  },
  {
   "cell_type": "code",
   "execution_count": 15,
   "id": "b4ca280d",
   "metadata": {
    "execution": {
     "iopub.execute_input": "2025-05-06T05:56:48.737804Z",
     "iopub.status.busy": "2025-05-06T05:56:48.737513Z",
     "iopub.status.idle": "2025-05-06T05:56:48.742483Z",
     "shell.execute_reply": "2025-05-06T05:56:48.741551Z"
    },
    "papermill": {
     "duration": 0.011754,
     "end_time": "2025-05-06T05:56:48.743925",
     "exception": false,
     "start_time": "2025-05-06T05:56:48.732171",
     "status": "completed"
    },
    "tags": []
   },
   "outputs": [],
   "source": [
    "# Initialize and run GridSearchCV\n",
    "rf = RandomForestRegressor(random_state=42)\n",
    "grid_search = GridSearchCV(estimator=rf,\n",
    "                           param_grid=param_grid,\n",
    "                           cv=5,\n",
    "                           scoring='neg_mean_squared_error',\n",
    "                           n_jobs=-1,\n",
    "                           verbose=2)"
   ]
  },
  {
   "cell_type": "code",
   "execution_count": 16,
   "id": "a28c5dc6",
   "metadata": {
    "execution": {
     "iopub.execute_input": "2025-05-06T05:56:48.754339Z",
     "iopub.status.busy": "2025-05-06T05:56:48.753967Z",
     "iopub.status.idle": "2025-05-06T05:57:30.878297Z",
     "shell.execute_reply": "2025-05-06T05:57:30.877191Z"
    },
    "papermill": {
     "duration": 42.131211,
     "end_time": "2025-05-06T05:57:30.879739",
     "exception": false,
     "start_time": "2025-05-06T05:56:48.748528",
     "status": "completed"
    },
    "tags": []
   },
   "outputs": [
    {
     "name": "stdout",
     "output_type": "stream",
     "text": [
      "Fitting 5 folds for each of 108 candidates, totalling 540 fits\n",
      "[CV] END bootstrap=True, max_depth=2, max_features=0.4, min_samples_leaf=6, min_samples_split=8, n_estimators=100; total time=   0.2s\n",
      "[CV] END bootstrap=True, max_depth=2, max_features=0.4, min_samples_leaf=6, min_samples_split=8, n_estimators=150; total time=   0.3s\n",
      "[CV] END bootstrap=True, max_depth=2, max_features=0.4, min_samples_leaf=6, min_samples_split=10, n_estimators=100; total time=   0.2s\n",
      "[CV] END bootstrap=True, max_depth=2, max_features=0.4, min_samples_leaf=6, min_samples_split=10, n_estimators=100; total time=   0.2s\n",
      "[CV] END bootstrap=True, max_depth=2, max_features=0.4, min_samples_leaf=6, min_samples_split=10, n_estimators=150; total time=   0.3s\n",
      "[CV] END bootstrap=True, max_depth=2, max_features=0.4, min_samples_leaf=6, min_samples_split=12, n_estimators=100; total time=   0.2s\n",
      "[CV] END bootstrap=True, max_depth=2, max_features=0.4, min_samples_leaf=6, min_samples_split=12, n_estimators=150; total time=   0.3s\n",
      "[CV] END bootstrap=True, max_depth=2, max_features=0.4, min_samples_leaf=8, min_samples_split=8, n_estimators=100; total time=   0.2s\n",
      "[CV] END bootstrap=True, max_depth=2, max_features=0.4, min_samples_leaf=8, min_samples_split=8, n_estimators=100; total time=   0.2s\n",
      "[CV] END bootstrap=True, max_depth=2, max_features=0.4, min_samples_leaf=8, min_samples_split=8, n_estimators=150; total time=   0.5s\n",
      "[CV] END bootstrap=True, max_depth=2, max_features=0.4, min_samples_leaf=8, min_samples_split=10, n_estimators=100; total time=   0.2s\n",
      "[CV] END bootstrap=True, max_depth=2, max_features=0.4, min_samples_leaf=8, min_samples_split=10, n_estimators=100; total time=   0.2s\n",
      "[CV] END bootstrap=True, max_depth=2, max_features=0.4, min_samples_leaf=8, min_samples_split=10, n_estimators=150; total time=   0.3s\n",
      "[CV] END bootstrap=True, max_depth=2, max_features=0.4, min_samples_leaf=8, min_samples_split=12, n_estimators=100; total time=   0.2s\n",
      "[CV] END bootstrap=True, max_depth=2, max_features=0.4, min_samples_leaf=8, min_samples_split=12, n_estimators=100; total time=   0.3s\n",
      "[CV] END bootstrap=True, max_depth=2, max_features=0.4, min_samples_leaf=8, min_samples_split=12, n_estimators=150; total time=   0.5s\n",
      "[CV] END bootstrap=True, max_depth=2, max_features=0.4, min_samples_leaf=8, min_samples_split=12, n_estimators=150; total time=   0.4s\n",
      "[CV] END bootstrap=True, max_depth=2, max_features=0.4, min_samples_leaf=10, min_samples_split=8, n_estimators=100; total time=   0.2s\n",
      "[CV] END bootstrap=True, max_depth=2, max_features=0.4, min_samples_leaf=10, min_samples_split=8, n_estimators=150; total time=   0.3s\n",
      "[CV] END bootstrap=True, max_depth=2, max_features=0.4, min_samples_leaf=10, min_samples_split=10, n_estimators=100; total time=   0.2s\n",
      "[CV] END bootstrap=True, max_depth=2, max_features=0.4, min_samples_leaf=10, min_samples_split=10, n_estimators=150; total time=   0.3s\n",
      "[CV] END bootstrap=True, max_depth=2, max_features=0.4, min_samples_leaf=10, min_samples_split=10, n_estimators=150; total time=   0.3s\n",
      "[CV] END bootstrap=True, max_depth=2, max_features=0.4, min_samples_leaf=10, min_samples_split=12, n_estimators=100; total time=   0.2s\n",
      "[CV] END bootstrap=True, max_depth=2, max_features=0.4, min_samples_leaf=10, min_samples_split=12, n_estimators=150; total time=   0.3s\n",
      "[CV] END bootstrap=True, max_depth=2, max_features=0.6, min_samples_leaf=6, min_samples_split=8, n_estimators=100; total time=   0.2s\n",
      "[CV] END bootstrap=True, max_depth=2, max_features=0.6, min_samples_leaf=6, min_samples_split=8, n_estimators=150; total time=   0.3s\n",
      "[CV] END bootstrap=True, max_depth=2, max_features=0.6, min_samples_leaf=6, min_samples_split=10, n_estimators=100; total time=   0.2s\n",
      "[CV] END bootstrap=True, max_depth=2, max_features=0.6, min_samples_leaf=6, min_samples_split=10, n_estimators=100; total time=   0.2s\n",
      "[CV] END bootstrap=True, max_depth=2, max_features=0.6, min_samples_leaf=6, min_samples_split=10, n_estimators=150; total time=   0.3s\n",
      "[CV] END bootstrap=True, max_depth=2, max_features=0.6, min_samples_leaf=6, min_samples_split=12, n_estimators=100; total time=   0.2s\n",
      "[CV] END bootstrap=True, max_depth=2, max_features=0.6, min_samples_leaf=6, min_samples_split=12, n_estimators=150; total time=   0.3s\n",
      "[CV] END bootstrap=True, max_depth=2, max_features=0.6, min_samples_leaf=6, min_samples_split=12, n_estimators=150; total time=   0.3s\n",
      "[CV] END bootstrap=True, max_depth=2, max_features=0.6, min_samples_leaf=8, min_samples_split=8, n_estimators=150; total time=   0.3s\n",
      "[CV] END bootstrap=True, max_depth=2, max_features=0.6, min_samples_leaf=8, min_samples_split=8, n_estimators=150; total time=   0.3s\n",
      "[CV] END bootstrap=True, max_depth=2, max_features=0.6, min_samples_leaf=8, min_samples_split=10, n_estimators=100; total time=   0.2s\n",
      "[CV] END bootstrap=True, max_depth=2, max_features=0.6, min_samples_leaf=8, min_samples_split=10, n_estimators=150; total time=   0.3s\n",
      "[CV] END bootstrap=True, max_depth=2, max_features=0.6, min_samples_leaf=8, min_samples_split=12, n_estimators=100; total time=   0.2s\n",
      "[CV] END bootstrap=True, max_depth=2, max_features=0.6, min_samples_leaf=8, min_samples_split=12, n_estimators=150; total time=   0.3s\n",
      "[CV] END bootstrap=True, max_depth=2, max_features=0.6, min_samples_leaf=8, min_samples_split=12, n_estimators=150; total time=   0.3s\n",
      "[CV] END bootstrap=True, max_depth=2, max_features=0.6, min_samples_leaf=10, min_samples_split=8, n_estimators=100; total time=   0.2s\n",
      "[CV] END bootstrap=True, max_depth=2, max_features=0.6, min_samples_leaf=10, min_samples_split=8, n_estimators=150; total time=   0.3s\n",
      "[CV] END bootstrap=True, max_depth=2, max_features=0.6, min_samples_leaf=10, min_samples_split=10, n_estimators=100; total time=   0.2s\n",
      "[CV] END bootstrap=True, max_depth=2, max_features=0.6, min_samples_leaf=10, min_samples_split=10, n_estimators=150; total time=   0.3s\n",
      "[CV] END bootstrap=True, max_depth=2, max_features=0.6, min_samples_leaf=10, min_samples_split=12, n_estimators=100; total time=   0.2s\n",
      "[CV] END bootstrap=True, max_depth=2, max_features=0.6, min_samples_leaf=10, min_samples_split=12, n_estimators=100; total time=   0.2s\n",
      "[CV] END bootstrap=True, max_depth=2, max_features=0.6, min_samples_leaf=10, min_samples_split=12, n_estimators=150; total time=   0.3s\n",
      "[CV] END bootstrap=True, max_depth=2, max_features=0.8, min_samples_leaf=6, min_samples_split=8, n_estimators=100; total time=   0.2s\n",
      "[CV] END bootstrap=True, max_depth=2, max_features=0.8, min_samples_leaf=6, min_samples_split=8, n_estimators=150; total time=   0.3s\n",
      "[CV] END bootstrap=True, max_depth=2, max_features=0.8, min_samples_leaf=6, min_samples_split=8, n_estimators=150; total time=   0.4s\n",
      "[CV] END bootstrap=True, max_depth=2, max_features=0.8, min_samples_leaf=6, min_samples_split=10, n_estimators=100; total time=   0.3s\n",
      "[CV] END bootstrap=True, max_depth=2, max_features=0.8, min_samples_leaf=6, min_samples_split=10, n_estimators=150; total time=   0.3s\n",
      "[CV] END bootstrap=True, max_depth=2, max_features=0.8, min_samples_leaf=6, min_samples_split=12, n_estimators=100; total time=   0.2s\n",
      "[CV] END bootstrap=True, max_depth=2, max_features=0.8, min_samples_leaf=6, min_samples_split=12, n_estimators=150; total time=   0.3s\n",
      "[CV] END bootstrap=True, max_depth=2, max_features=0.8, min_samples_leaf=8, min_samples_split=8, n_estimators=100; total time=   0.2s\n",
      "[CV] END bootstrap=True, max_depth=2, max_features=0.8, min_samples_leaf=8, min_samples_split=8, n_estimators=100; total time=   0.2s\n",
      "[CV] END bootstrap=True, max_depth=2, max_features=0.8, min_samples_leaf=8, min_samples_split=8, n_estimators=150; total time=   0.3s\n",
      "[CV] END bootstrap=True, max_depth=2, max_features=0.8, min_samples_leaf=8, min_samples_split=10, n_estimators=100; total time=   0.2s\n",
      "[CV] END bootstrap=True, max_depth=2, max_features=0.8, min_samples_leaf=8, min_samples_split=10, n_estimators=150; total time=   0.3s\n",
      "[CV] END bootstrap=True, max_depth=2, max_features=0.8, min_samples_leaf=8, min_samples_split=12, n_estimators=100; total time=   0.2s\n",
      "[CV] END bootstrap=True, max_depth=2, max_features=0.8, min_samples_leaf=8, min_samples_split=12, n_estimators=100; total time=   0.2s\n",
      "[CV] END bootstrap=True, max_depth=2, max_features=0.8, min_samples_leaf=8, min_samples_split=12, n_estimators=150; total time=   0.3s[CV] END bootstrap=True, max_depth=2, max_features=0.4, min_samples_leaf=6, min_samples_split=8, n_estimators=100; total time=   0.2s\n",
      "[CV] END bootstrap=True, max_depth=2, max_features=0.4, min_samples_leaf=6, min_samples_split=8, n_estimators=100; total time=   0.2s\n",
      "[CV] END bootstrap=True, max_depth=2, max_features=0.4, min_samples_leaf=6, min_samples_split=8, n_estimators=150; total time=   0.3s\n",
      "[CV] END bootstrap=True, max_depth=2, max_features=0.4, min_samples_leaf=6, min_samples_split=10, n_estimators=100; total time=   0.2s\n",
      "[CV] END bootstrap=True, max_depth=2, max_features=0.4, min_samples_leaf=6, min_samples_split=10, n_estimators=150; total time=   0.3s\n",
      "[CV] END bootstrap=True, max_depth=2, max_features=0.4, min_samples_leaf=6, min_samples_split=12, n_estimators=100; total time=   0.2s\n",
      "[CV] END bootstrap=True, max_depth=2, max_features=0.4, min_samples_leaf=6, min_samples_split=12, n_estimators=100; total time=   0.2s\n",
      "[CV] END bootstrap=True, max_depth=2, max_features=0.4, min_samples_leaf=6, min_samples_split=12, n_estimators=150; total time=   0.3s\n",
      "[CV] END bootstrap=True, max_depth=2, max_features=0.4, min_samples_leaf=8, min_samples_split=8, n_estimators=100; total time=   0.3s\n",
      "[CV] END bootstrap=True, max_depth=2, max_features=0.4, min_samples_leaf=8, min_samples_split=8, n_estimators=150; total time=   0.4s\n",
      "[CV] END bootstrap=True, max_depth=2, max_features=0.4, min_samples_leaf=8, min_samples_split=10, n_estimators=100; total time=   0.3s\n",
      "[CV] END bootstrap=True, max_depth=2, max_features=0.4, min_samples_leaf=8, min_samples_split=10, n_estimators=100; total time=   0.3s\n",
      "[CV] END bootstrap=True, max_depth=2, max_features=0.4, min_samples_leaf=8, min_samples_split=10, n_estimators=150; total time=   0.4s\n",
      "[CV] END bootstrap=True, max_depth=2, max_features=0.4, min_samples_leaf=8, min_samples_split=12, n_estimators=100; total time=   0.4s\n",
      "[CV] END bootstrap=True, max_depth=2, max_features=0.4, min_samples_leaf=8, min_samples_split=12, n_estimators=150; total time=   0.6s\n",
      "[CV] END bootstrap=True, max_depth=2, max_features=0.4, min_samples_leaf=10, min_samples_split=8, n_estimators=100; total time=   0.2s\n",
      "[CV] END bootstrap=True, max_depth=2, max_features=0.4, min_samples_leaf=10, min_samples_split=8, n_estimators=150; total time=   0.3s\n",
      "[CV] END bootstrap=True, max_depth=2, max_features=0.4, min_samples_leaf=10, min_samples_split=8, n_estimators=150; total time=   0.3s\n",
      "[CV] END bootstrap=True, max_depth=2, max_features=0.4, min_samples_leaf=10, min_samples_split=10, n_estimators=100; total time=   0.2s\n",
      "[CV] END bootstrap=True, max_depth=2, max_features=0.4, min_samples_leaf=10, min_samples_split=10, n_estimators=150; total time=   0.3s\n",
      "[CV] END bootstrap=True, max_depth=2, max_features=0.4, min_samples_leaf=10, min_samples_split=12, n_estimators=100; total time=   0.2s\n",
      "[CV] END bootstrap=True, max_depth=2, max_features=0.4, min_samples_leaf=10, min_samples_split=12, n_estimators=150; total time=   0.3s\n",
      "[CV] END bootstrap=True, max_depth=2, max_features=0.4, min_samples_leaf=10, min_samples_split=12, n_estimators=150; total time=   0.3s\n",
      "[CV] END bootstrap=True, max_depth=2, max_features=0.6, min_samples_leaf=6, min_samples_split=8, n_estimators=150; total time=   0.3s\n",
      "[CV] END bootstrap=True, max_depth=2, max_features=0.6, min_samples_leaf=6, min_samples_split=8, n_estimators=150; total time=   0.3s\n",
      "[CV] END bootstrap=True, max_depth=2, max_features=0.6, min_samples_leaf=6, min_samples_split=10, n_estimators=100; total time=   0.2s\n",
      "[CV] END bootstrap=True, max_depth=2, max_features=0.6, min_samples_leaf=6, min_samples_split=10, n_estimators=150; total time=   0.3s\n",
      "[CV] END bootstrap=True, max_depth=2, max_features=0.6, min_samples_leaf=6, min_samples_split=12, n_estimators=100; total time=   0.2s\n",
      "[CV] END bootstrap=True, max_depth=2, max_features=0.6, min_samples_leaf=6, min_samples_split=12, n_estimators=150; total time=   0.3s\n",
      "[CV] END bootstrap=True, max_depth=2, max_features=0.6, min_samples_leaf=8, min_samples_split=8, n_estimators=100; total time=   0.2s\n",
      "[CV] END bootstrap=True, max_depth=2, max_features=0.6, min_samples_leaf=8, min_samples_split=8, n_estimators=100; total time=   0.2s\n",
      "[CV] END bootstrap=True, max_depth=2, max_features=0.6, min_samples_leaf=8, min_samples_split=8, n_estimators=150; total time=   0.3s\n",
      "[CV] END bootstrap=True, max_depth=2, max_features=0.6, min_samples_leaf=8, min_samples_split=10, n_estimators=100; total time=   0.2s\n",
      "[CV] END bootstrap=True, max_depth=2, max_features=0.6, min_samples_leaf=8, min_samples_split=10, n_estimators=150; total time=   0.3s\n",
      "[CV] END bootstrap=True, max_depth=2, max_features=0.6, min_samples_leaf=8, min_samples_split=10, n_estimators=150; total time=   0.3s\n",
      "[CV] END bootstrap=True, max_depth=2, max_features=0.6, min_samples_leaf=8, min_samples_split=12, n_estimators=100; total time=   0.2s\n",
      "[CV] END bootstrap=True, max_depth=2, max_features=0.6, min_samples_leaf=8, min_samples_split=12, n_estimators=150; total time=   0.3s\n",
      "[CV] END bootstrap=True, max_depth=2, max_features=0.6, min_samples_leaf=10, min_samples_split=8, n_estimators=100; total time=   0.2s\n",
      "[CV] END bootstrap=True, max_depth=2, max_features=0.6, min_samples_leaf=10, min_samples_split=8, n_estimators=150; total time=   0.3s\n",
      "[CV] END bootstrap=True, max_depth=2, max_features=0.6, min_samples_leaf=10, min_samples_split=10, n_estimators=100; total time=   0.2s\n",
      "[CV] END bootstrap=True, max_depth=2, max_features=0.6, min_samples_leaf=10, min_samples_split=10, n_estimators=100; total time=   0.2s\n",
      "[CV] END bootstrap=True, max_depth=2, max_features=0.6, min_samples_leaf=10, min_samples_split=10, n_estimators=150; total time=   0.3s\n",
      "[CV] END bootstrap=True, max_depth=2, max_features=0.6, min_samples_leaf=10, min_samples_split=12, n_estimators=100; total time=   0.2s\n",
      "[CV] END bootstrap=True, max_depth=2, max_features=0.6, min_samples_leaf=10, min_samples_split=12, n_estimators=150; total time=   0.3s\n",
      "[CV] END bootstrap=True, max_depth=2, max_features=0.6, min_samples_leaf=10, min_samples_split=12, n_estimators=150; total time=   0.3s\n",
      "[CV] END bootstrap=True, max_depth=2, max_features=0.8, min_samples_leaf=6, min_samples_split=8, n_estimators=100; total time=   0.2s\n",
      "[CV] END bootstrap=True, max_depth=2, max_features=0.8, min_samples_leaf=6, min_samples_split=8, n_estimators=150; total time=   0.3s\n",
      "[CV] END bootstrap=True, max_depth=2, max_features=0.8, min_samples_leaf=6, min_samples_split=10, n_estimators=100; total time=   0.2s\n",
      "[CV] END bootstrap=True, max_depth=2, max_features=0.8, min_samples_leaf=6, min_samples_split=10, n_estimators=150; total time=   0.3s\n",
      "[CV] END bootstrap=True, max_depth=2, max_features=0.8, min_samples_leaf=6, min_samples_split=10, n_estimators=150; total time=   0.3s\n",
      "[CV] END bootstrap=True, max_depth=2, max_features=0.8, min_samples_leaf=6, min_samples_split=12, n_estimators=100; total time=   0.2s\n",
      "[CV] END bootstrap=True, max_depth=2, max_features=0.8, min_samples_leaf=6, min_samples_split=12, n_estimators=150; total time=   0.3s\n",
      "[CV] END bootstrap=True, max_depth=2, max_features=0.8, min_samples_leaf=8, min_samples_split=8, n_estimators=100; total time=   0.2s\n",
      "[CV] END bootstrap=True, max_depth=2, max_features=0.8, min_samples_leaf=8, min_samples_split=8, n_estimators=150; total time=   0.3s\n",
      "[CV] END bootstrap=True, max_depth=2, max_features=0.8, min_samples_leaf=8, min_samples_split=10, n_estimators=100; total time=   0.2s\n",
      "[CV] END bootstrap=True, max_depth=2, max_features=0.8, min_samples_leaf=8, min_samples_split=10, n_estimators=100; total time=   0.2s\n",
      "[CV] END bootstrap=True, max_depth=2, max_features=0.8, min_samples_leaf=8, min_samples_split=10, n_estimators=150; total time=   0.3s\n",
      "[CV] END bootstrap=True, max_depth=2, max_features=0.8, min_samples_leaf=8, min_samples_split=12, n_estimators=100; total time=   0.2s\n",
      "[CV] END bootstrap=True, max_depth=2, max_features=0.8, min_samples_leaf=8, min_samples_split=12, n_estimators=100; total time=   0.2s\n",
      "[CV] END bootstrap=True, max_depth=2, max_features=0.8, min_samples_leaf=8, min_samples_split=12, n_estimators=150; total time=   0.3s\n",
      "[CV] END bootstrap=True, max_depth=2, max_features=0.8, min_samples_leaf=10, min_samples_split=8, n_estimators=100; total time=   0.2s[CV] END bootstrap=True, max_depth=2, max_features=0.4, min_samples_leaf=6, min_samples_split=8, n_estimators=100; total time=   0.2s\n",
      "[CV] END bootstrap=True, max_depth=2, max_features=0.4, min_samples_leaf=6, min_samples_split=8, n_estimators=150; total time=   0.3s\n",
      "[CV] END bootstrap=True, max_depth=2, max_features=0.4, min_samples_leaf=6, min_samples_split=8, n_estimators=150; total time=   0.3s\n",
      "[CV] END bootstrap=True, max_depth=2, max_features=0.4, min_samples_leaf=6, min_samples_split=10, n_estimators=150; total time=   0.3s\n",
      "[CV] END bootstrap=True, max_depth=2, max_features=0.4, min_samples_leaf=6, min_samples_split=10, n_estimators=150; total time=   0.3s\n",
      "[CV] END bootstrap=True, max_depth=2, max_features=0.4, min_samples_leaf=6, min_samples_split=12, n_estimators=150; total time=   0.3s\n",
      "[CV] END bootstrap=True, max_depth=2, max_features=0.4, min_samples_leaf=6, min_samples_split=12, n_estimators=150; total time=   0.3s\n",
      "[CV] END bootstrap=True, max_depth=2, max_features=0.4, min_samples_leaf=8, min_samples_split=8, n_estimators=100; total time=   0.3s\n",
      "[CV] END bootstrap=True, max_depth=2, max_features=0.4, min_samples_leaf=8, min_samples_split=8, n_estimators=150; total time=   0.6s\n",
      "[CV] END bootstrap=True, max_depth=2, max_features=0.4, min_samples_leaf=8, min_samples_split=10, n_estimators=100; total time=   0.3s\n",
      "[CV] END bootstrap=True, max_depth=2, max_features=0.4, min_samples_leaf=8, min_samples_split=10, n_estimators=150; total time=   0.6s\n",
      "[CV] END bootstrap=True, max_depth=2, max_features=0.4, min_samples_leaf=8, min_samples_split=12, n_estimators=100; total time=   0.3s\n",
      "[CV] END bootstrap=True, max_depth=2, max_features=0.4, min_samples_leaf=8, min_samples_split=12, n_estimators=150; total time=   0.5s\n",
      "[CV] END bootstrap=True, max_depth=2, max_features=0.4, min_samples_leaf=10, min_samples_split=8, n_estimators=100; total time=   0.2s\n",
      "[CV] END bootstrap=True, max_depth=2, max_features=0.4, min_samples_leaf=10, min_samples_split=8, n_estimators=100; total time=   0.2s\n",
      "[CV] END bootstrap=True, max_depth=2, max_features=0.4, min_samples_leaf=10, min_samples_split=8, n_estimators=150; total time=   0.3s\n",
      "[CV] END bootstrap=True, max_depth=2, max_features=0.4, min_samples_leaf=10, min_samples_split=10, n_estimators=100; total time=   0.2s\n",
      "[CV] END bootstrap=True, max_depth=2, max_features=0.4, min_samples_leaf=10, min_samples_split=10, n_estimators=150; total time=   0.3s\n",
      "[CV] END bootstrap=True, max_depth=2, max_features=0.4, min_samples_leaf=10, min_samples_split=12, n_estimators=100; total time=   0.2s\n",
      "[CV] END bootstrap=True, max_depth=2, max_features=0.4, min_samples_leaf=10, min_samples_split=12, n_estimators=100; total time=   0.2s\n",
      "[CV] END bootstrap=True, max_depth=2, max_features=0.4, min_samples_leaf=10, min_samples_split=12, n_estimators=150; total time=   0.3s\n",
      "[CV] END bootstrap=True, max_depth=2, max_features=0.6, min_samples_leaf=6, min_samples_split=8, n_estimators=100; total time=   0.2s\n",
      "[CV] END bootstrap=True, max_depth=2, max_features=0.6, min_samples_leaf=6, min_samples_split=8, n_estimators=100; total time=   0.2s\n",
      "[CV] END bootstrap=True, max_depth=2, max_features=0.6, min_samples_leaf=6, min_samples_split=8, n_estimators=150; total time=   0.3s\n",
      "[CV] END bootstrap=True, max_depth=2, max_features=0.6, min_samples_leaf=6, min_samples_split=10, n_estimators=100; total time=   0.2s\n",
      "[CV] END bootstrap=True, max_depth=2, max_features=0.6, min_samples_leaf=6, min_samples_split=10, n_estimators=150; total time=   0.3s\n",
      "[CV] END bootstrap=True, max_depth=2, max_features=0.6, min_samples_leaf=6, min_samples_split=12, n_estimators=100; total time=   0.2s\n",
      "[CV] END bootstrap=True, max_depth=2, max_features=0.6, min_samples_leaf=6, min_samples_split=12, n_estimators=100; total time=   0.2s\n",
      "[CV] END bootstrap=True, max_depth=2, max_features=0.6, min_samples_leaf=6, min_samples_split=12, n_estimators=150; total time=   0.3s\n",
      "[CV] END bootstrap=True, max_depth=2, max_features=0.6, min_samples_leaf=8, min_samples_split=8, n_estimators=100; total time=   0.2s\n",
      "[CV] END bootstrap=True, max_depth=2, max_features=0.6, min_samples_leaf=8, min_samples_split=8, n_estimators=100; total time=   0.2s\n",
      "[CV] END bootstrap=True, max_depth=2, max_features=0.6, min_samples_leaf=8, min_samples_split=8, n_estimators=150; total time=   0.3s\n",
      "[CV] END bootstrap=True, max_depth=2, max_features=0.6, min_samples_leaf=8, min_samples_split=10, n_estimators=100; total time=   0.2s\n",
      "[CV] END bootstrap=True, max_depth=2, max_features=0.6, min_samples_leaf=8, min_samples_split=10, n_estimators=150; total time=   0.3s\n",
      "[CV] END bootstrap=True, max_depth=2, max_features=0.6, min_samples_leaf=8, min_samples_split=12, n_estimators=100; total time=   0.2s\n",
      "[CV] END bootstrap=True, max_depth=2, max_features=0.6, min_samples_leaf=8, min_samples_split=12, n_estimators=100; total time=   0.2s\n",
      "[CV] END bootstrap=True, max_depth=2, max_features=0.6, min_samples_leaf=8, min_samples_split=12, n_estimators=150; total time=   0.3s\n",
      "[CV] END bootstrap=True, max_depth=2, max_features=0.6, min_samples_leaf=10, min_samples_split=8, n_estimators=100; total time=   0.2s\n",
      "[CV] END bootstrap=True, max_depth=2, max_features=0.6, min_samples_leaf=10, min_samples_split=8, n_estimators=150; total time=   0.3s\n",
      "[CV] END bootstrap=True, max_depth=2, max_features=0.6, min_samples_leaf=10, min_samples_split=8, n_estimators=150; total time=   0.3s\n",
      "[CV] END bootstrap=True, max_depth=2, max_features=0.6, min_samples_leaf=10, min_samples_split=10, n_estimators=100; total time=   0.2s\n",
      "[CV] END bootstrap=True, max_depth=2, max_features=0.6, min_samples_leaf=10, min_samples_split=10, n_estimators=150; total time=   0.3s\n",
      "[CV] END bootstrap=True, max_depth=2, max_features=0.6, min_samples_leaf=10, min_samples_split=12, n_estimators=100; total time=   0.2s\n",
      "[CV] END bootstrap=True, max_depth=2, max_features=0.6, min_samples_leaf=10, min_samples_split=12, n_estimators=150; total time=   0.3s\n",
      "[CV] END bootstrap=True, max_depth=2, max_features=0.8, min_samples_leaf=6, min_samples_split=8, n_estimators=100; total time=   0.2s\n",
      "[CV] END bootstrap=True, max_depth=2, max_features=0.8, min_samples_leaf=6, min_samples_split=8, n_estimators=100; total time=   0.2s\n",
      "[CV] END bootstrap=True, max_depth=2, max_features=0.8, min_samples_leaf=6, min_samples_split=8, n_estimators=150; total time=   0.3s\n",
      "[CV] END bootstrap=True, max_depth=2, max_features=0.8, min_samples_leaf=6, min_samples_split=10, n_estimators=100; total time=   0.3s\n",
      "[CV] END bootstrap=True, max_depth=2, max_features=0.8, min_samples_leaf=6, min_samples_split=10, n_estimators=150; total time=   0.4s\n",
      "[CV] END bootstrap=True, max_depth=2, max_features=0.8, min_samples_leaf=6, min_samples_split=12, n_estimators=100; total time=   0.2s\n",
      "[CV] END bootstrap=True, max_depth=2, max_features=0.8, min_samples_leaf=6, min_samples_split=12, n_estimators=100; total time=   0.2s\n",
      "[CV] END bootstrap=True, max_depth=2, max_features=0.8, min_samples_leaf=6, min_samples_split=12, n_estimators=150; total time=   0.3s\n",
      "[CV] END bootstrap=True, max_depth=2, max_features=0.8, min_samples_leaf=8, min_samples_split=8, n_estimators=100; total time=   0.2s\n",
      "[CV] END bootstrap=True, max_depth=2, max_features=0.8, min_samples_leaf=8, min_samples_split=8, n_estimators=150; total time=   0.3s\n",
      "[CV] END bootstrap=True, max_depth=2, max_features=0.8, min_samples_leaf=8, min_samples_split=8, n_estimators=150; total time=   0.3s\n",
      "[CV] END bootstrap=True, max_depth=2, max_features=0.8, min_samples_leaf=8, min_samples_split=10, n_estimators=100; total time=   0.2s\n",
      "[CV] END bootstrap=True, max_depth=2, max_features=0.8, min_samples_leaf=8, min_samples_split=10, n_estimators=150; total time=   0.3s\n",
      "[CV] END bootstrap=True, max_depth=2, max_features=0.8, min_samples_leaf=8, min_samples_split=12, n_estimators=100; total time=   0.2s\n",
      "[CV] END bootstrap=True, max_depth=2, max_features=0.8, min_samples_leaf=8, min_samples_split=12, n_estimators=150; total time=   0.3s\n",
      "[CV] END bootstrap=True, max_depth=2, max_features=0.8, min_samples_leaf=10, min_samples_split=8, n_estimators=100; total time=   0.2s\n",
      "[CV] END bootstrap=True, max_depth=2, max_features=0.8, min_samples_leaf=10, min_samples_split=8, n_estimators=100; total time=   0.2s[CV] END bootstrap=True, max_depth=2, max_features=0.4, min_samples_leaf=6, min_samples_split=8, n_estimators=100; total time=   0.2s\n",
      "[CV] END bootstrap=True, max_depth=2, max_features=0.4, min_samples_leaf=6, min_samples_split=8, n_estimators=150; total time=   0.3s\n",
      "[CV] END bootstrap=True, max_depth=2, max_features=0.4, min_samples_leaf=6, min_samples_split=10, n_estimators=100; total time=   0.2s\n",
      "[CV] END bootstrap=True, max_depth=2, max_features=0.4, min_samples_leaf=6, min_samples_split=10, n_estimators=100; total time=   0.2s\n",
      "[CV] END bootstrap=True, max_depth=2, max_features=0.4, min_samples_leaf=6, min_samples_split=10, n_estimators=150; total time=   0.3s\n",
      "[CV] END bootstrap=True, max_depth=2, max_features=0.4, min_samples_leaf=6, min_samples_split=12, n_estimators=100; total time=   0.2s\n",
      "[CV] END bootstrap=True, max_depth=2, max_features=0.4, min_samples_leaf=6, min_samples_split=12, n_estimators=100; total time=   0.2s\n",
      "[CV] END bootstrap=True, max_depth=2, max_features=0.4, min_samples_leaf=6, min_samples_split=12, n_estimators=150; total time=   0.3s\n",
      "[CV] END bootstrap=True, max_depth=2, max_features=0.4, min_samples_leaf=8, min_samples_split=8, n_estimators=100; total time=   0.3s\n",
      "[CV] END bootstrap=True, max_depth=2, max_features=0.4, min_samples_leaf=8, min_samples_split=8, n_estimators=150; total time=   0.3s\n",
      "[CV] END bootstrap=True, max_depth=2, max_features=0.4, min_samples_leaf=8, min_samples_split=8, n_estimators=150; total time=   0.4s\n",
      "[CV] END bootstrap=True, max_depth=2, max_features=0.4, min_samples_leaf=8, min_samples_split=10, n_estimators=150; total time=   0.4s\n",
      "[CV] END bootstrap=True, max_depth=2, max_features=0.4, min_samples_leaf=8, min_samples_split=10, n_estimators=150; total time=   0.6s\n",
      "[CV] END bootstrap=True, max_depth=2, max_features=0.4, min_samples_leaf=8, min_samples_split=12, n_estimators=100; total time=   0.5s\n",
      "[CV] END bootstrap=True, max_depth=2, max_features=0.4, min_samples_leaf=8, min_samples_split=12, n_estimators=150; total time=   0.4s\n",
      "[CV] END bootstrap=True, max_depth=2, max_features=0.4, min_samples_leaf=10, min_samples_split=8, n_estimators=100; total time=   0.2s\n",
      "[CV] END bootstrap=True, max_depth=2, max_features=0.4, min_samples_leaf=10, min_samples_split=8, n_estimators=150; total time=   0.3s\n",
      "[CV] END bootstrap=True, max_depth=2, max_features=0.4, min_samples_leaf=10, min_samples_split=10, n_estimators=100; total time=   0.2s\n",
      "[CV] END bootstrap=True, max_depth=2, max_features=0.4, min_samples_leaf=10, min_samples_split=10, n_estimators=100; total time=   0.2s\n",
      "[CV] END bootstrap=True, max_depth=2, max_features=0.4, min_samples_leaf=10, min_samples_split=10, n_estimators=150; total time=   0.3s\n",
      "[CV] END bootstrap=True, max_depth=2, max_features=0.4, min_samples_leaf=10, min_samples_split=12, n_estimators=100; total time=   0.2s\n",
      "[CV] END bootstrap=True, max_depth=2, max_features=0.4, min_samples_leaf=10, min_samples_split=12, n_estimators=150; total time=   0.3s\n",
      "[CV] END bootstrap=True, max_depth=2, max_features=0.6, min_samples_leaf=6, min_samples_split=8, n_estimators=100; total time=   0.2s\n",
      "[CV] END bootstrap=True, max_depth=2, max_features=0.6, min_samples_leaf=6, min_samples_split=8, n_estimators=100; total time=   0.2s\n",
      "[CV] END bootstrap=True, max_depth=2, max_features=0.6, min_samples_leaf=6, min_samples_split=8, n_estimators=150; total time=   0.3s\n",
      "[CV] END bootstrap=True, max_depth=2, max_features=0.6, min_samples_leaf=6, min_samples_split=10, n_estimators=100; total time=   0.2s\n",
      "[CV] END bootstrap=True, max_depth=2, max_features=0.6, min_samples_leaf=6, min_samples_split=10, n_estimators=150; total time=   0.3s\n",
      "[CV] END bootstrap=True, max_depth=2, max_features=0.6, min_samples_leaf=6, min_samples_split=10, n_estimators=150; total time=   0.3s\n",
      "[CV] END bootstrap=True, max_depth=2, max_features=0.6, min_samples_leaf=6, min_samples_split=12, n_estimators=100; total time=   0.2s\n",
      "[CV] END bootstrap=True, max_depth=2, max_features=0.6, min_samples_leaf=6, min_samples_split=12, n_estimators=150; total time=   0.3s\n",
      "[CV] END bootstrap=True, max_depth=2, max_features=0.6, min_samples_leaf=8, min_samples_split=8, n_estimators=100; total time=   0.2s\n",
      "[CV] END bootstrap=True, max_depth=2, max_features=0.6, min_samples_leaf=8, min_samples_split=8, n_estimators=150; total time=   0.3s\n",
      "[CV] END bootstrap=True, max_depth=2, max_features=0.6, min_samples_leaf=8, min_samples_split=10, n_estimators=100; total time=   0.2s\n",
      "[CV] END bootstrap=True, max_depth=2, max_features=0.6, min_samples_leaf=8, min_samples_split=10, n_estimators=100; total time=   0.2s\n",
      "[CV] END bootstrap=True, max_depth=2, max_features=0.6, min_samples_leaf=8, min_samples_split=10, n_estimators=150; total time=   0.3s\n",
      "[CV] END bootstrap=True, max_depth=2, max_features=0.6, min_samples_leaf=8, min_samples_split=12, n_estimators=100; total time=   0.2s\n",
      "[CV] END bootstrap=True, max_depth=2, max_features=0.6, min_samples_leaf=8, min_samples_split=12, n_estimators=150; total time=   0.3s\n",
      "[CV] END bootstrap=True, max_depth=2, max_features=0.6, min_samples_leaf=10, min_samples_split=8, n_estimators=100; total time=   0.2s\n",
      "[CV] END bootstrap=True, max_depth=2, max_features=0.6, min_samples_leaf=10, min_samples_split=8, n_estimators=100; total time=   0.2s\n",
      "[CV] END bootstrap=True, max_depth=2, max_features=0.6, min_samples_leaf=10, min_samples_split=8, n_estimators=150; total time=   0.3s\n",
      "[CV] END bootstrap=True, max_depth=2, max_features=0.6, min_samples_leaf=10, min_samples_split=10, n_estimators=100; total time=   0.2s\n",
      "[CV] END bootstrap=True, max_depth=2, max_features=0.6, min_samples_leaf=10, min_samples_split=10, n_estimators=150; total time=   0.3s\n",
      "[CV] END bootstrap=True, max_depth=2, max_features=0.6, min_samples_leaf=10, min_samples_split=10, n_estimators=150; total time=   0.3s\n",
      "[CV] END bootstrap=True, max_depth=2, max_features=0.6, min_samples_leaf=10, min_samples_split=12, n_estimators=100; total time=   0.2s\n",
      "[CV] END bootstrap=True, max_depth=2, max_features=0.6, min_samples_leaf=10, min_samples_split=12, n_estimators=150; total time=   0.3s\n",
      "[CV] END bootstrap=True, max_depth=2, max_features=0.8, min_samples_leaf=6, min_samples_split=8, n_estimators=100; total time=   0.2s\n",
      "[CV] END bootstrap=True, max_depth=2, max_features=0.8, min_samples_leaf=6, min_samples_split=8, n_estimators=150; total time=   0.3s\n",
      "[CV] END bootstrap=True, max_depth=2, max_features=0.8, min_samples_leaf=6, min_samples_split=10, n_estimators=100; total time=   0.2s\n",
      "[CV] END bootstrap=True, max_depth=2, max_features=0.8, min_samples_leaf=6, min_samples_split=10, n_estimators=100; total time=   0.3s\n",
      "[CV] END bootstrap=True, max_depth=2, max_features=0.8, min_samples_leaf=6, min_samples_split=10, n_estimators=150; total time=   0.3s\n",
      "[CV] END bootstrap=True, max_depth=2, max_features=0.8, min_samples_leaf=6, min_samples_split=12, n_estimators=100; total time=   0.2s\n",
      "[CV] END bootstrap=True, max_depth=2, max_features=0.8, min_samples_leaf=6, min_samples_split=12, n_estimators=150; total time=   0.3s\n",
      "[CV] END bootstrap=True, max_depth=2, max_features=0.8, min_samples_leaf=6, min_samples_split=12, n_estimators=150; total time=   0.3s\n",
      "[CV] END bootstrap=True, max_depth=2, max_features=0.8, min_samples_leaf=8, min_samples_split=8, n_estimators=100; total time=   0.2s\n",
      "[CV] END bootstrap=True, max_depth=2, max_features=0.8, min_samples_leaf=8, min_samples_split=8, n_estimators=150; total time=   0.3s\n",
      "[CV] END bootstrap=True, max_depth=2, max_features=0.8, min_samples_leaf=8, min_samples_split=10, n_estimators=100; total time=   0.2s\n",
      "[CV] END bootstrap=True, max_depth=2, max_features=0.8, min_samples_leaf=8, min_samples_split=10, n_estimators=150; total time=   0.3s\n",
      "[CV] END bootstrap=True, max_depth=2, max_features=0.8, min_samples_leaf=8, min_samples_split=10, n_estimators=150; total time=   0.3s\n",
      "[CV] END bootstrap=True, max_depth=2, max_features=0.8, min_samples_leaf=8, min_samples_split=12, n_estimators=150; total time=   0.3s\n",
      "[CV] END bootstrap=True, max_depth=2, max_features=0.8, min_samples_leaf=8, min_samples_split=12, n_estimators=150; total time=   0.3s\n",
      "[CV] END bootstrap=True, max_depth=2, max_features=0.8, min_samples_leaf=10, min_samples_split=8, n_estimators=100; total time=   0.2s\n",
      "[CV] END bootstrap=True, max_depth=2, max_features=0.8, min_samples_leaf=10, min_samples_split=8, n_estimators=100; total time=   0.2s\n",
      "[CV] END bootstrap=True, max_depth=2, max_features=0.8, min_samples_leaf=10, min_samples_split=8, n_estimators=150; total time=   0.3s\n",
      "[CV] END bootstrap=True, max_depth=2, max_features=0.8, min_samples_leaf=10, min_samples_split=8, n_estimators=150; total time=   0.3s\n",
      "[CV] END bootstrap=True, max_depth=2, max_features=0.8, min_samples_leaf=10, min_samples_split=10, n_estimators=100; total time=   0.2s\n",
      "[CV] END bootstrap=True, max_depth=2, max_features=0.8, min_samples_leaf=10, min_samples_split=10, n_estimators=150; total time=   0.3s\n",
      "[CV] END bootstrap=True, max_depth=2, max_features=0.8, min_samples_leaf=10, min_samples_split=12, n_estimators=100; total time=   0.2s\n",
      "[CV] END bootstrap=True, max_depth=2, max_features=0.8, min_samples_leaf=10, min_samples_split=12, n_estimators=150; total time=   0.3s\n",
      "[CV] END bootstrap=True, max_depth=2, max_features=0.8, min_samples_leaf=10, min_samples_split=12, n_estimators=150; total time=   0.3s\n",
      "[CV] END bootstrap=True, max_depth=3, max_features=0.4, min_samples_leaf=6, min_samples_split=8, n_estimators=150; total time=   0.3s\n",
      "[CV] END bootstrap=True, max_depth=3, max_features=0.4, min_samples_leaf=6, min_samples_split=8, n_estimators=150; total time=   0.3s\n",
      "[CV] END bootstrap=True, max_depth=3, max_features=0.4, min_samples_leaf=6, min_samples_split=10, n_estimators=100; total time=   0.2s\n",
      "[CV] END bootstrap=True, max_depth=3, max_features=0.4, min_samples_leaf=6, min_samples_split=10, n_estimators=150; total time=   0.3s\n",
      "[CV] END bootstrap=True, max_depth=3, max_features=0.4, min_samples_leaf=6, min_samples_split=12, n_estimators=100; total time=   0.2s\n",
      "[CV] END bootstrap=True, max_depth=3, max_features=0.4, min_samples_leaf=6, min_samples_split=12, n_estimators=150; total time=   0.3s\n",
      "[CV] END bootstrap=True, max_depth=3, max_features=0.4, min_samples_leaf=8, min_samples_split=8, n_estimators=100; total time=   0.2s\n",
      "[CV] END bootstrap=True, max_depth=3, max_features=0.4, min_samples_leaf=8, min_samples_split=8, n_estimators=100; total time=   0.2s\n",
      "[CV] END bootstrap=True, max_depth=3, max_features=0.4, min_samples_leaf=8, min_samples_split=8, n_estimators=150; total time=   0.3s\n",
      "[CV] END bootstrap=True, max_depth=3, max_features=0.4, min_samples_leaf=8, min_samples_split=10, n_estimators=100; total time=   0.2s\n",
      "[CV] END bootstrap=True, max_depth=3, max_features=0.4, min_samples_leaf=8, min_samples_split=10, n_estimators=150; total time=   0.3s\n",
      "[CV] END bootstrap=True, max_depth=3, max_features=0.4, min_samples_leaf=8, min_samples_split=10, n_estimators=150; total time=   0.3s\n",
      "[CV] END bootstrap=True, max_depth=3, max_features=0.4, min_samples_leaf=8, min_samples_split=12, n_estimators=150; total time=   0.3s\n",
      "[CV] END bootstrap=True, max_depth=3, max_features=0.4, min_samples_leaf=8, min_samples_split=12, n_estimators=150; total time=   0.3s\n",
      "[CV] END bootstrap=True, max_depth=3, max_features=0.4, min_samples_leaf=10, min_samples_split=8, n_estimators=100; total time=   0.3s\n",
      "[CV] END bootstrap=True, max_depth=3, max_features=0.4, min_samples_leaf=10, min_samples_split=8, n_estimators=150; total time=   0.3s\n",
      "[CV] END bootstrap=True, max_depth=3, max_features=0.4, min_samples_leaf=10, min_samples_split=10, n_estimators=100; total time=   0.2s\n",
      "[CV] END bootstrap=True, max_depth=3, max_features=0.4, min_samples_leaf=10, min_samples_split=10, n_estimators=150; total time=   0.3s\n",
      "[CV] END bootstrap=True, max_depth=3, max_features=0.4, min_samples_leaf=10, min_samples_split=10, n_estimators=150; total time=   0.3s\n",
      "[CV] END bootstrap=True, max_depth=3, max_features=0.4, min_samples_leaf=10, min_samples_split=12, n_estimators=100; total time=   0.2s\n",
      "[CV] END bootstrap=True, max_depth=3, max_features=0.4, min_samples_leaf=10, min_samples_split=12, n_estimators=150; total time=   0.3s\n",
      "[CV] END bootstrap=True, max_depth=3, max_features=0.6, min_samples_leaf=6, min_samples_split=8, n_estimators=100; total time=   0.2s\n",
      "[CV] END bootstrap=True, max_depth=3, max_features=0.6, min_samples_leaf=6, min_samples_split=8, n_estimators=150; total time=   0.3s\n",
      "[CV] END bootstrap=True, max_depth=3, max_features=0.6, min_samples_leaf=6, min_samples_split=10, n_estimators=100; total time=   0.2s\n",
      "[CV] END bootstrap=True, max_depth=3, max_features=0.6, min_samples_leaf=6, min_samples_split=10, n_estimators=100; total time=   0.2s\n",
      "[CV] END bootstrap=True, max_depth=3, max_features=0.6, min_samples_leaf=6, min_samples_split=10, n_estimators=150; total time=   0.3s\n",
      "[CV] END bootstrap=True, max_depth=3, max_features=0.6, min_samples_leaf=6, min_samples_split=12, n_estimators=100; total time=   0.2s\n",
      "[CV] END bootstrap=True, max_depth=3, max_features=0.6, min_samples_leaf=6, min_samples_split=12, n_estimators=150; total time=   0.3s\n",
      "[CV] END bootstrap=True, max_depth=3, max_features=0.6, min_samples_leaf=6, min_samples_split=12, n_estimators=150; total time=   0.3s\n",
      "[CV] END bootstrap=True, max_depth=3, max_features=0.6, min_samples_leaf=8, min_samples_split=8, n_estimators=100; total time=   0.2s\n",
      "[CV] END bootstrap=True, max_depth=3, max_features=0.6, min_samples_leaf=8, min_samples_split=8, n_estimators=150; total time=   0.3s\n",
      "[CV] END bootstrap=True, max_depth=3, max_features=0.6, min_samples_leaf=8, min_samples_split=10, n_estimators=100; total time=   0.2s\n",
      "[CV] END bootstrap=True, max_depth=3, max_features=0.6, min_samples_leaf=8, min_samples_split=10, n_estimators=150; total time=   0.3s\n",
      "[CV] END bootstrap=True, max_depth=3, max_features=0.6, min_samples_leaf=8, min_samples_split=12, n_estimators=100; total time=   0.2s\n",
      "[CV] END bootstrap=True, max_depth=3, max_features=0.6, min_samples_leaf=8, min_samples_split=12, n_estimators=100; total time=   0.2s\n",
      "[CV] END bootstrap=True, max_depth=3, max_features=0.6, min_samples_leaf=8, min_samples_split=12, n_estimators=150; total time=   0.3s\n",
      "[CV] END bootstrap=True, max_depth=3, max_features=0.6, min_samples_leaf=10, min_samples_split=8, n_estimators=100; total time=   0.2s\n",
      "[CV] END bootstrap=True, max_depth=3, max_features=0.6, min_samples_leaf=10, min_samples_split=8, n_estimators=100; total time=   0.2s\n",
      "[CV] END bootstrap=True, max_depth=3, max_features=0.6, min_samples_leaf=10, min_samples_split=8, n_estimators=150; total time=   0.3s\n",
      "[CV] END bootstrap=True, max_depth=3, max_features=0.6, min_samples_leaf=10, min_samples_split=10, n_estimators=100; total time=   0.2s\n",
      "[CV] END bootstrap=True, max_depth=3, max_features=0.6, min_samples_leaf=10, min_samples_split=10, n_estimators=150; total time=   0.3s\n",
      "[CV] END bootstrap=True, max_depth=3, max_features=0.6, min_samples_leaf=10, min_samples_split=12, n_estimators=100; total time=   0.2s\n",
      "[CV] END bootstrap=True, max_depth=3, max_features=0.6, min_samples_leaf=10, min_samples_split=12, n_estimators=100; total time=   0.2s\n",
      "[CV] END bootstrap=True, max_depth=3, max_features=0.6, min_samples_leaf=10, min_samples_split=12, n_estimators=150; total time=   0.3s\n",
      "[CV] END bootstrap=True, max_depth=3, max_features=0.8, min_samples_leaf=6, min_samples_split=8, n_estimators=100; total time=   0.2s\n",
      "[CV] END bootstrap=True, max_depth=3, max_features=0.8, min_samples_leaf=6, min_samples_split=8, n_estimators=150; total time=   0.3s\n",
      "[CV] END bootstrap=True, max_depth=3, max_features=0.8, min_samples_leaf=6, min_samples_split=8, n_estimators=150; total time=   0.3s\n",
      "[CV] END bootstrap=True, max_depth=3, max_features=0.8, min_samples_leaf=6, min_samples_split=10, n_estimators=100; total time=   0.2s\n",
      "[CV] END bootstrap=True, max_depth=3, max_features=0.8, min_samples_leaf=6, min_samples_split=10, n_estimators=150; total time=   0.3s\n",
      "[CV] END bootstrap=True, max_depth=3, max_features=0.8, min_samples_leaf=6, min_samples_split=12, n_estimators=100; total time=   0.2s\n",
      "[CV] END bootstrap=True, max_depth=3, max_features=0.8, min_samples_leaf=6, min_samples_split=12, n_estimators=150; total time=   0.4s\n",
      "[CV] END bootstrap=True, max_depth=3, max_features=0.8, min_samples_leaf=8, min_samples_split=8, n_estimators=100; total time=   0.2s\n",
      "[CV] END bootstrap=True, max_depth=3, max_features=0.8, min_samples_leaf=8, min_samples_split=8, n_estimators=100; total time=   0.2s\n",
      "[CV] END bootstrap=True, max_depth=2, max_features=0.8, min_samples_leaf=10, min_samples_split=8, n_estimators=150; total time=   0.3s\n",
      "[CV] END bootstrap=True, max_depth=2, max_features=0.8, min_samples_leaf=10, min_samples_split=10, n_estimators=100; total time=   0.2s\n",
      "[CV] END bootstrap=True, max_depth=2, max_features=0.8, min_samples_leaf=10, min_samples_split=10, n_estimators=150; total time=   0.3s\n",
      "[CV] END bootstrap=True, max_depth=2, max_features=0.8, min_samples_leaf=10, min_samples_split=12, n_estimators=100; total time=   0.2s\n",
      "[CV] END bootstrap=True, max_depth=2, max_features=0.8, min_samples_leaf=10, min_samples_split=12, n_estimators=100; total time=   0.2s\n",
      "[CV] END bootstrap=True, max_depth=2, max_features=0.8, min_samples_leaf=10, min_samples_split=12, n_estimators=150; total time=   0.3s\n",
      "[CV] END bootstrap=True, max_depth=3, max_features=0.4, min_samples_leaf=6, min_samples_split=8, n_estimators=100; total time=   0.2s\n",
      "[CV] END bootstrap=True, max_depth=3, max_features=0.4, min_samples_leaf=6, min_samples_split=8, n_estimators=100; total time=   0.2s\n",
      "[CV] END bootstrap=True, max_depth=3, max_features=0.4, min_samples_leaf=6, min_samples_split=8, n_estimators=150; total time=   0.3s\n",
      "[CV] END bootstrap=True, max_depth=3, max_features=0.4, min_samples_leaf=6, min_samples_split=10, n_estimators=100; total time=   0.2s\n",
      "[CV] END bootstrap=True, max_depth=3, max_features=0.4, min_samples_leaf=6, min_samples_split=10, n_estimators=150; total time=   0.3s\n",
      "[CV] END bootstrap=True, max_depth=3, max_features=0.4, min_samples_leaf=6, min_samples_split=12, n_estimators=100; total time=   0.2s\n",
      "[CV] END bootstrap=True, max_depth=3, max_features=0.4, min_samples_leaf=6, min_samples_split=12, n_estimators=100; total time=   0.2s\n",
      "[CV] END bootstrap=True, max_depth=3, max_features=0.4, min_samples_leaf=6, min_samples_split=12, n_estimators=150; total time=   0.3s\n",
      "[CV] END bootstrap=True, max_depth=3, max_features=0.4, min_samples_leaf=8, min_samples_split=8, n_estimators=100; total time=   0.2s\n",
      "[CV] END bootstrap=True, max_depth=3, max_features=0.4, min_samples_leaf=8, min_samples_split=8, n_estimators=150; total time=   0.3s\n",
      "[CV] END bootstrap=True, max_depth=3, max_features=0.4, min_samples_leaf=8, min_samples_split=8, n_estimators=150; total time=   0.3s\n",
      "[CV] END bootstrap=True, max_depth=3, max_features=0.4, min_samples_leaf=8, min_samples_split=10, n_estimators=100; total time=   0.2s\n",
      "[CV] END bootstrap=True, max_depth=3, max_features=0.4, min_samples_leaf=8, min_samples_split=10, n_estimators=150; total time=   0.3s\n",
      "[CV] END bootstrap=True, max_depth=3, max_features=0.4, min_samples_leaf=8, min_samples_split=12, n_estimators=100; total time=   0.2s\n",
      "[CV] END bootstrap=True, max_depth=3, max_features=0.4, min_samples_leaf=8, min_samples_split=12, n_estimators=150; total time=   0.3s\n",
      "[CV] END bootstrap=True, max_depth=3, max_features=0.4, min_samples_leaf=10, min_samples_split=8, n_estimators=100; total time=   0.2s\n",
      "[CV] END bootstrap=True, max_depth=3, max_features=0.4, min_samples_leaf=10, min_samples_split=8, n_estimators=100; total time=   0.3s\n",
      "[CV] END bootstrap=True, max_depth=3, max_features=0.4, min_samples_leaf=10, min_samples_split=8, n_estimators=150; total time=   0.3s\n",
      "[CV] END bootstrap=True, max_depth=3, max_features=0.4, min_samples_leaf=10, min_samples_split=10, n_estimators=100; total time=   0.2s\n",
      "[CV] END bootstrap=True, max_depth=3, max_features=0.4, min_samples_leaf=10, min_samples_split=10, n_estimators=150; total time=   0.3s\n",
      "[CV] END bootstrap=True, max_depth=3, max_features=0.4, min_samples_leaf=10, min_samples_split=12, n_estimators=100; total time=   0.2s\n",
      "[CV] END bootstrap=True, max_depth=3, max_features=0.4, min_samples_leaf=10, min_samples_split=12, n_estimators=100; total time=   0.2s\n",
      "[CV] END bootstrap=True, max_depth=3, max_features=0.4, min_samples_leaf=10, min_samples_split=12, n_estimators=150; total time=   0.3s\n",
      "[CV] END bootstrap=True, max_depth=3, max_features=0.6, min_samples_leaf=6, min_samples_split=8, n_estimators=100; total time=   0.2s\n",
      "[CV] END bootstrap=True, max_depth=3, max_features=0.6, min_samples_leaf=6, min_samples_split=8, n_estimators=150; total time=   0.3s\n",
      "[CV] END bootstrap=True, max_depth=3, max_features=0.6, min_samples_leaf=6, min_samples_split=8, n_estimators=150; total time=   0.3s\n",
      "[CV] END bootstrap=True, max_depth=3, max_features=0.6, min_samples_leaf=6, min_samples_split=10, n_estimators=100; total time=   0.2s\n",
      "[CV] END bootstrap=True, max_depth=3, max_features=0.6, min_samples_leaf=6, min_samples_split=10, n_estimators=150; total time=   0.3s\n",
      "[CV] END bootstrap=True, max_depth=3, max_features=0.6, min_samples_leaf=6, min_samples_split=12, n_estimators=100; total time=   0.2s\n",
      "[CV] END bootstrap=True, max_depth=3, max_features=0.6, min_samples_leaf=6, min_samples_split=12, n_estimators=150; total time=   0.3s\n",
      "[CV] END bootstrap=True, max_depth=3, max_features=0.6, min_samples_leaf=8, min_samples_split=8, n_estimators=100; total time=   0.2s\n",
      "[CV] END bootstrap=True, max_depth=3, max_features=0.6, min_samples_leaf=8, min_samples_split=8, n_estimators=100; total time=   0.2s\n",
      "[CV] END bootstrap=True, max_depth=3, max_features=0.6, min_samples_leaf=8, min_samples_split=8, n_estimators=150; total time=   0.3s\n",
      "[CV] END bootstrap=True, max_depth=3, max_features=0.6, min_samples_leaf=8, min_samples_split=10, n_estimators=100; total time=   0.2s\n",
      "[CV] END bootstrap=True, max_depth=3, max_features=0.6, min_samples_leaf=8, min_samples_split=10, n_estimators=100; total time=   0.2s\n",
      "[CV] END bootstrap=True, max_depth=3, max_features=0.6, min_samples_leaf=8, min_samples_split=10, n_estimators=150; total time=   0.3s\n",
      "[CV] END bootstrap=True, max_depth=3, max_features=0.6, min_samples_leaf=8, min_samples_split=12, n_estimators=100; total time=   0.2s\n",
      "[CV] END bootstrap=True, max_depth=3, max_features=0.6, min_samples_leaf=8, min_samples_split=12, n_estimators=150; total time=   0.3s\n",
      "[CV] END bootstrap=True, max_depth=3, max_features=0.6, min_samples_leaf=10, min_samples_split=8, n_estimators=100; total time=   0.2s\n",
      "[CV] END bootstrap=True, max_depth=3, max_features=0.6, min_samples_leaf=10, min_samples_split=8, n_estimators=100; total time=   0.2s\n",
      "[CV] END bootstrap=True, max_depth=3, max_features=0.6, min_samples_leaf=10, min_samples_split=8, n_estimators=150; total time=   0.3s\n",
      "[CV] END bootstrap=True, max_depth=3, max_features=0.6, min_samples_leaf=10, min_samples_split=10, n_estimators=100; total time=   0.2s\n",
      "[CV] END bootstrap=True, max_depth=3, max_features=0.6, min_samples_leaf=10, min_samples_split=10, n_estimators=150; total time=   0.3s\n",
      "[CV] END bootstrap=True, max_depth=3, max_features=0.6, min_samples_leaf=10, min_samples_split=10, n_estimators=150; total time=   0.3s\n",
      "[CV] END bootstrap=True, max_depth=3, max_features=0.6, min_samples_leaf=10, min_samples_split=12, n_estimators=100; total time=   0.2s\n",
      "[CV] END bootstrap=True, max_depth=3, max_features=0.6, min_samples_leaf=10, min_samples_split=12, n_estimators=150; total time=   0.3s\n",
      "[CV] END bootstrap=True, max_depth=3, max_features=0.8, min_samples_leaf=6, min_samples_split=8, n_estimators=100; total time=   0.2s\n",
      "[CV] END bootstrap=True, max_depth=3, max_features=0.8, min_samples_leaf=6, min_samples_split=8, n_estimators=150; total time=   0.3s\n",
      "[CV] END bootstrap=True, max_depth=3, max_features=0.8, min_samples_leaf=6, min_samples_split=10, n_estimators=100; total time=   0.2s\n",
      "[CV] END bootstrap=True, max_depth=3, max_features=0.8, min_samples_leaf=6, min_samples_split=10, n_estimators=100; total time=   0.2s\n",
      "[CV] END bootstrap=True, max_depth=3, max_features=0.8, min_samples_leaf=6, min_samples_split=10, n_estimators=150; total time=   0.3s\n",
      "[CV] END bootstrap=True, max_depth=3, max_features=0.8, min_samples_leaf=6, min_samples_split=12, n_estimators=100; total time=   0.2s\n",
      "[CV] END bootstrap=True, max_depth=3, max_features=0.8, min_samples_leaf=6, min_samples_split=12, n_estimators=150; total time=   0.4s\n",
      "[CV] END bootstrap=True, max_depth=3, max_features=0.8, min_samples_leaf=6, min_samples_split=12, n_estimators=150; total time=   0.3s\n",
      "[CV] END bootstrap=True, max_depth=3, max_features=0.8, min_samples_leaf=8, min_samples_split=8, n_estimators=100; total time=   0.2s\n",
      "[CV] END bootstrap=True, max_depth=2, max_features=0.8, min_samples_leaf=10, min_samples_split=8, n_estimators=150; total time=   0.3s\n",
      "[CV] END bootstrap=True, max_depth=2, max_features=0.8, min_samples_leaf=10, min_samples_split=10, n_estimators=100; total time=   0.2s\n",
      "[CV] END bootstrap=True, max_depth=2, max_features=0.8, min_samples_leaf=10, min_samples_split=10, n_estimators=100; total time=   0.2s\n",
      "[CV] END bootstrap=True, max_depth=2, max_features=0.8, min_samples_leaf=10, min_samples_split=10, n_estimators=150; total time=   0.4s\n",
      "[CV] END bootstrap=True, max_depth=2, max_features=0.8, min_samples_leaf=10, min_samples_split=12, n_estimators=100; total time=   0.2s\n",
      "[CV] END bootstrap=True, max_depth=2, max_features=0.8, min_samples_leaf=10, min_samples_split=12, n_estimators=150; total time=   0.3s\n",
      "[CV] END bootstrap=True, max_depth=3, max_features=0.4, min_samples_leaf=6, min_samples_split=8, n_estimators=100; total time=   0.2s\n",
      "[CV] END bootstrap=True, max_depth=3, max_features=0.4, min_samples_leaf=6, min_samples_split=8, n_estimators=100; total time=   0.2s\n",
      "[CV] END bootstrap=True, max_depth=3, max_features=0.4, min_samples_leaf=6, min_samples_split=8, n_estimators=150; total time=   0.3s\n",
      "[CV] END bootstrap=True, max_depth=3, max_features=0.4, min_samples_leaf=6, min_samples_split=10, n_estimators=100; total time=   0.2s\n",
      "[CV] END bootstrap=True, max_depth=3, max_features=0.4, min_samples_leaf=6, min_samples_split=10, n_estimators=150; total time=   0.3s\n",
      "[CV] END bootstrap=True, max_depth=3, max_features=0.4, min_samples_leaf=6, min_samples_split=10, n_estimators=150; total time=   0.3s\n",
      "[CV] END bootstrap=True, max_depth=3, max_features=0.4, min_samples_leaf=6, min_samples_split=12, n_estimators=100; total time=   0.2s\n",
      "[CV] END bootstrap=True, max_depth=3, max_features=0.4, min_samples_leaf=6, min_samples_split=12, n_estimators=150; total time=   0.3s\n",
      "[CV] END bootstrap=True, max_depth=3, max_features=0.4, min_samples_leaf=8, min_samples_split=8, n_estimators=100; total time=   0.2s\n",
      "[CV] END bootstrap=True, max_depth=3, max_features=0.4, min_samples_leaf=8, min_samples_split=8, n_estimators=150; total time=   0.3s\n",
      "[CV] END bootstrap=True, max_depth=3, max_features=0.4, min_samples_leaf=8, min_samples_split=10, n_estimators=100; total time=   0.2s\n",
      "[CV] END bootstrap=True, max_depth=3, max_features=0.4, min_samples_leaf=8, min_samples_split=10, n_estimators=100; total time=   0.2s\n",
      "[CV] END bootstrap=True, max_depth=3, max_features=0.4, min_samples_leaf=8, min_samples_split=10, n_estimators=150; total time=   0.3s\n",
      "[CV] END bootstrap=True, max_depth=3, max_features=0.4, min_samples_leaf=8, min_samples_split=12, n_estimators=100; total time=   0.2s\n",
      "[CV] END bootstrap=True, max_depth=3, max_features=0.4, min_samples_leaf=8, min_samples_split=12, n_estimators=100; total time=   0.2s\n",
      "[CV] END bootstrap=True, max_depth=3, max_features=0.4, min_samples_leaf=8, min_samples_split=12, n_estimators=150; total time=   0.3s\n",
      "[CV] END bootstrap=True, max_depth=3, max_features=0.4, min_samples_leaf=10, min_samples_split=8, n_estimators=100; total time=   0.2s\n",
      "[CV] END bootstrap=True, max_depth=3, max_features=0.4, min_samples_leaf=10, min_samples_split=8, n_estimators=150; total time=   0.4s\n",
      "[CV] END bootstrap=True, max_depth=3, max_features=0.4, min_samples_leaf=10, min_samples_split=10, n_estimators=100; total time=   0.2s\n",
      "[CV] END bootstrap=True, max_depth=3, max_features=0.4, min_samples_leaf=10, min_samples_split=10, n_estimators=100; total time=   0.3s\n",
      "[CV] END bootstrap=True, max_depth=3, max_features=0.4, min_samples_leaf=10, min_samples_split=10, n_estimators=150; total time=   0.3s\n",
      "[CV] END bootstrap=True, max_depth=3, max_features=0.4, min_samples_leaf=10, min_samples_split=12, n_estimators=100; total time=   0.2s\n",
      "[CV] END bootstrap=True, max_depth=3, max_features=0.4, min_samples_leaf=10, min_samples_split=12, n_estimators=150; total time=   0.3s\n",
      "[CV] END bootstrap=True, max_depth=3, max_features=0.4, min_samples_leaf=10, min_samples_split=12, n_estimators=150; total time=   0.3s\n",
      "[CV] END bootstrap=True, max_depth=3, max_features=0.6, min_samples_leaf=6, min_samples_split=8, n_estimators=100; total time=   0.2s\n",
      "[CV] END bootstrap=True, max_depth=3, max_features=0.6, min_samples_leaf=6, min_samples_split=8, n_estimators=150; total time=   0.3s\n",
      "[CV] END bootstrap=True, max_depth=3, max_features=0.6, min_samples_leaf=6, min_samples_split=10, n_estimators=100; total time=   0.2s\n",
      "[CV] END bootstrap=True, max_depth=3, max_features=0.6, min_samples_leaf=6, min_samples_split=10, n_estimators=150; total time=   0.3s\n",
      "[CV] END bootstrap=True, max_depth=3, max_features=0.6, min_samples_leaf=6, min_samples_split=12, n_estimators=100; total time=   0.2s\n",
      "[CV] END bootstrap=True, max_depth=3, max_features=0.6, min_samples_leaf=6, min_samples_split=12, n_estimators=100; total time=   0.2s\n",
      "[CV] END bootstrap=True, max_depth=3, max_features=0.6, min_samples_leaf=6, min_samples_split=12, n_estimators=150; total time=   0.3s\n",
      "[CV] END bootstrap=True, max_depth=3, max_features=0.6, min_samples_leaf=8, min_samples_split=8, n_estimators=100; total time=   0.2s\n",
      "[CV] END bootstrap=True, max_depth=3, max_features=0.6, min_samples_leaf=8, min_samples_split=8, n_estimators=150; total time=   0.3s\n",
      "[CV] END bootstrap=True, max_depth=3, max_features=0.6, min_samples_leaf=8, min_samples_split=8, n_estimators=150; total time=   0.3s\n",
      "[CV] END bootstrap=True, max_depth=3, max_features=0.6, min_samples_leaf=8, min_samples_split=10, n_estimators=150; total time=   0.3s\n",
      "[CV] END bootstrap=True, max_depth=3, max_features=0.6, min_samples_leaf=8, min_samples_split=10, n_estimators=150; total time=   0.3s\n",
      "[CV] END bootstrap=True, max_depth=3, max_features=0.6, min_samples_leaf=8, min_samples_split=12, n_estimators=100; total time=   0.3s\n",
      "[CV] END bootstrap=True, max_depth=3, max_features=0.6, min_samples_leaf=8, min_samples_split=12, n_estimators=150; total time=   0.3s\n",
      "[CV] END bootstrap=True, max_depth=3, max_features=0.6, min_samples_leaf=10, min_samples_split=8, n_estimators=100; total time=   0.2s\n",
      "[CV] END bootstrap=True, max_depth=3, max_features=0.6, min_samples_leaf=10, min_samples_split=8, n_estimators=150; total time=   0.3s\n",
      "[CV] END bootstrap=True, max_depth=3, max_features=0.6, min_samples_leaf=10, min_samples_split=10, n_estimators=100; total time=   0.2s\n",
      "[CV] END bootstrap=True, max_depth=3, max_features=0.6, min_samples_leaf=10, min_samples_split=10, n_estimators=100; total time=   0.2s\n",
      "[CV] END bootstrap=True, max_depth=3, max_features=0.6, min_samples_leaf=10, min_samples_split=10, n_estimators=150; total time=   0.3s\n",
      "[CV] END bootstrap=True, max_depth=3, max_features=0.6, min_samples_leaf=10, min_samples_split=12, n_estimators=100; total time=   0.2s\n",
      "[CV] END bootstrap=True, max_depth=3, max_features=0.6, min_samples_leaf=10, min_samples_split=12, n_estimators=150; total time=   0.3s\n",
      "[CV] END bootstrap=True, max_depth=3, max_features=0.6, min_samples_leaf=10, min_samples_split=12, n_estimators=150; total time=   0.3s\n",
      "[CV] END bootstrap=True, max_depth=3, max_features=0.8, min_samples_leaf=6, min_samples_split=8, n_estimators=100; total time=   0.2s\n",
      "[CV] END bootstrap=True, max_depth=3, max_features=0.8, min_samples_leaf=6, min_samples_split=8, n_estimators=150; total time=   0.3s\n",
      "[CV] END bootstrap=True, max_depth=3, max_features=0.8, min_samples_leaf=6, min_samples_split=10, n_estimators=100; total time=   0.2s\n",
      "[CV] END bootstrap=True, max_depth=3, max_features=0.8, min_samples_leaf=6, min_samples_split=10, n_estimators=150; total time=   0.3s\n",
      "[CV] END bootstrap=True, max_depth=3, max_features=0.8, min_samples_leaf=6, min_samples_split=12, n_estimators=100; total time=   0.2s\n",
      "[CV] END bootstrap=True, max_depth=3, max_features=0.8, min_samples_leaf=6, min_samples_split=12, n_estimators=100; total time=   0.3s\n",
      "[CV] END bootstrap=True, max_depth=3, max_features=0.8, min_samples_leaf=6, min_samples_split=12, n_estimators=150; total time=   0.4s\n",
      "[CV] END bootstrap=True, max_depth=3, max_features=0.8, min_samples_leaf=8, min_samples_split=8, n_estimators=100; total time=   0.2s\n",
      "[CV] END bootstrap=True, max_depth=3, max_features=0.8, min_samples_leaf=8, min_samples_split=8, n_estimators=150; total time=   0.4s\n",
      "[CV] END bootstrap=True, max_depth=2, max_features=0.8, min_samples_leaf=10, min_samples_split=8, n_estimators=150; total time=   0.3s\n",
      "[CV] END bootstrap=True, max_depth=2, max_features=0.8, min_samples_leaf=10, min_samples_split=10, n_estimators=100; total time=   0.2s\n",
      "[CV] END bootstrap=True, max_depth=2, max_features=0.8, min_samples_leaf=10, min_samples_split=10, n_estimators=150; total time=   0.3s\n",
      "[CV] END bootstrap=True, max_depth=2, max_features=0.8, min_samples_leaf=10, min_samples_split=10, n_estimators=150; total time=   0.4s\n",
      "[CV] END bootstrap=True, max_depth=2, max_features=0.8, min_samples_leaf=10, min_samples_split=12, n_estimators=100; total time=   0.2s\n",
      "[CV] END bootstrap=True, max_depth=2, max_features=0.8, min_samples_leaf=10, min_samples_split=12, n_estimators=150; total time=   0.3s\n",
      "[CV] END bootstrap=True, max_depth=3, max_features=0.4, min_samples_leaf=6, min_samples_split=8, n_estimators=100; total time=   0.2s\n",
      "[CV] END bootstrap=True, max_depth=3, max_features=0.4, min_samples_leaf=6, min_samples_split=8, n_estimators=150; total time=   0.3s\n",
      "[CV] END bootstrap=True, max_depth=3, max_features=0.4, min_samples_leaf=6, min_samples_split=10, n_estimators=100; total time=   0.2s\n",
      "[CV] END bootstrap=True, max_depth=3, max_features=0.4, min_samples_leaf=6, min_samples_split=10, n_estimators=100; total time=   0.2s\n",
      "[CV] END bootstrap=True, max_depth=3, max_features=0.4, min_samples_leaf=6, min_samples_split=10, n_estimators=150; total time=   0.3s\n",
      "[CV] END bootstrap=True, max_depth=3, max_features=0.4, min_samples_leaf=6, min_samples_split=12, n_estimators=100; total time=   0.2s\n",
      "[CV] END bootstrap=True, max_depth=3, max_features=0.4, min_samples_leaf=6, min_samples_split=12, n_estimators=150; total time=   0.3s\n",
      "[CV] END bootstrap=True, max_depth=3, max_features=0.4, min_samples_leaf=6, min_samples_split=12, n_estimators=150; total time=   0.3s\n",
      "[CV] END bootstrap=True, max_depth=3, max_features=0.4, min_samples_leaf=8, min_samples_split=8, n_estimators=100; total time=   0.2s\n",
      "[CV] END bootstrap=True, max_depth=3, max_features=0.4, min_samples_leaf=8, min_samples_split=8, n_estimators=150; total time=   0.3s\n",
      "[CV] END bootstrap=True, max_depth=3, max_features=0.4, min_samples_leaf=8, min_samples_split=10, n_estimators=100; total time=   0.2s\n",
      "[CV] END bootstrap=True, max_depth=3, max_features=0.4, min_samples_leaf=8, min_samples_split=10, n_estimators=150; total time=   0.3s\n",
      "[CV] END bootstrap=True, max_depth=3, max_features=0.4, min_samples_leaf=8, min_samples_split=12, n_estimators=100; total time=   0.2s\n",
      "[CV] END bootstrap=True, max_depth=3, max_features=0.4, min_samples_leaf=8, min_samples_split=12, n_estimators=100; total time=   0.2s\n",
      "[CV] END bootstrap=True, max_depth=3, max_features=0.4, min_samples_leaf=8, min_samples_split=12, n_estimators=150; total time=   0.3s\n",
      "[CV] END bootstrap=True, max_depth=3, max_features=0.4, min_samples_leaf=10, min_samples_split=8, n_estimators=100; total time=   0.2s\n",
      "[CV] END bootstrap=True, max_depth=3, max_features=0.4, min_samples_leaf=10, min_samples_split=8, n_estimators=150; total time=   0.4s\n",
      "[CV] END bootstrap=True, max_depth=3, max_features=0.4, min_samples_leaf=10, min_samples_split=8, n_estimators=150; total time=   0.3s\n",
      "[CV] END bootstrap=True, max_depth=3, max_features=0.4, min_samples_leaf=10, min_samples_split=10, n_estimators=100; total time=   0.2s\n",
      "[CV] END bootstrap=True, max_depth=3, max_features=0.4, min_samples_leaf=10, min_samples_split=10, n_estimators=150; total time=   0.3s\n",
      "[CV] END bootstrap=True, max_depth=3, max_features=0.4, min_samples_leaf=10, min_samples_split=12, n_estimators=100; total time=   0.2s\n",
      "[CV] END bootstrap=True, max_depth=3, max_features=0.4, min_samples_leaf=10, min_samples_split=12, n_estimators=150; total time=   0.3s\n",
      "[CV] END bootstrap=True, max_depth=3, max_features=0.6, min_samples_leaf=6, min_samples_split=8, n_estimators=100; total time=   0.2s\n",
      "[CV] END bootstrap=True, max_depth=3, max_features=0.6, min_samples_leaf=6, min_samples_split=8, n_estimators=100; total time=   0.2s\n",
      "[CV] END bootstrap=True, max_depth=3, max_features=0.6, min_samples_leaf=6, min_samples_split=8, n_estimators=150; total time=   0.3s\n",
      "[CV] END bootstrap=True, max_depth=3, max_features=0.6, min_samples_leaf=6, min_samples_split=10, n_estimators=100; total time=   0.2s\n",
      "[CV] END bootstrap=True, max_depth=3, max_features=0.6, min_samples_leaf=6, min_samples_split=10, n_estimators=150; total time=   0.3s\n",
      "[CV] END bootstrap=True, max_depth=3, max_features=0.6, min_samples_leaf=6, min_samples_split=10, n_estimators=150; total time=   0.3s\n",
      "[CV] END bootstrap=True, max_depth=3, max_features=0.6, min_samples_leaf=6, min_samples_split=12, n_estimators=100; total time=   0.2s\n",
      "[CV] END bootstrap=True, max_depth=3, max_features=0.6, min_samples_leaf=6, min_samples_split=12, n_estimators=150; total time=   0.3s\n",
      "[CV] END bootstrap=True, max_depth=3, max_features=0.6, min_samples_leaf=8, min_samples_split=8, n_estimators=100; total time=   0.2s\n",
      "[CV] END bootstrap=True, max_depth=3, max_features=0.6, min_samples_leaf=8, min_samples_split=8, n_estimators=150; total time=   0.3s\n",
      "[CV] END bootstrap=True, max_depth=3, max_features=0.6, min_samples_leaf=8, min_samples_split=10, n_estimators=100; total time=   0.2s\n",
      "[CV] END bootstrap=True, max_depth=3, max_features=0.6, min_samples_leaf=8, min_samples_split=10, n_estimators=100; total time=   0.2s\n",
      "[CV] END bootstrap=True, max_depth=3, max_features=0.6, min_samples_leaf=8, min_samples_split=10, n_estimators=150; total time=   0.3s\n",
      "[CV] END bootstrap=True, max_depth=3, max_features=0.6, min_samples_leaf=8, min_samples_split=12, n_estimators=100; total time=   0.2s\n",
      "[CV] END bootstrap=True, max_depth=3, max_features=0.6, min_samples_leaf=8, min_samples_split=12, n_estimators=150; total time=   0.3s\n",
      "[CV] END bootstrap=True, max_depth=3, max_features=0.6, min_samples_leaf=8, min_samples_split=12, n_estimators=150; total time=   0.3s\n",
      "[CV] END bootstrap=True, max_depth=3, max_features=0.6, min_samples_leaf=10, min_samples_split=8, n_estimators=150; total time=   0.3s\n",
      "[CV] END bootstrap=True, max_depth=3, max_features=0.6, min_samples_leaf=10, min_samples_split=8, n_estimators=150; total time=   0.3s\n",
      "[CV] END bootstrap=True, max_depth=3, max_features=0.6, min_samples_leaf=10, min_samples_split=10, n_estimators=100; total time=   0.2s\n",
      "[CV] END bootstrap=True, max_depth=3, max_features=0.6, min_samples_leaf=10, min_samples_split=10, n_estimators=150; total time=   0.3s\n",
      "[CV] END bootstrap=True, max_depth=3, max_features=0.6, min_samples_leaf=10, min_samples_split=12, n_estimators=100; total time=   0.2s\n",
      "[CV] END bootstrap=True, max_depth=3, max_features=0.6, min_samples_leaf=10, min_samples_split=12, n_estimators=150; total time=   0.3s\n",
      "[CV] END bootstrap=True, max_depth=3, max_features=0.8, min_samples_leaf=6, min_samples_split=8, n_estimators=100; total time=   0.2s\n",
      "[CV] END bootstrap=True, max_depth=3, max_features=0.8, min_samples_leaf=6, min_samples_split=8, n_estimators=100; total time=   0.2s\n",
      "[CV] END bootstrap=True, max_depth=3, max_features=0.8, min_samples_leaf=6, min_samples_split=8, n_estimators=150; total time=   0.3s\n",
      "[CV] END bootstrap=True, max_depth=3, max_features=0.8, min_samples_leaf=6, min_samples_split=10, n_estimators=100; total time=   0.2s\n",
      "[CV] END bootstrap=True, max_depth=3, max_features=0.8, min_samples_leaf=6, min_samples_split=10, n_estimators=150; total time=   0.3s\n",
      "[CV] END bootstrap=True, max_depth=3, max_features=0.8, min_samples_leaf=6, min_samples_split=10, n_estimators=150; total time=   0.3s\n",
      "[CV] END bootstrap=True, max_depth=3, max_features=0.8, min_samples_leaf=6, min_samples_split=12, n_estimators=100; total time=   0.3s\n",
      "[CV] END bootstrap=True, max_depth=3, max_features=0.8, min_samples_leaf=6, min_samples_split=12, n_estimators=150; total time=   0.4s\n",
      "[CV] END bootstrap=True, max_depth=3, max_features=0.8, min_samples_leaf=8, min_samples_split=8, n_estimators=100; total time=   0.2s\n",
      "[CV] END bootstrap=True, max_depth=3, max_features=0.8, min_samples_leaf=8, min_samples_split=8, n_estimators=150; total time=   0.4s\n",
      "[CV] END bootstrap=True, max_depth=3, max_features=0.8, min_samples_leaf=8, min_samples_split=10, n_estimators=100; total time=   0.3s"
     ]
    },
    {
     "data": {
      "text/html": [
       "<style>#sk-container-id-1 {color: black;background-color: white;}#sk-container-id-1 pre{padding: 0;}#sk-container-id-1 div.sk-toggleable {background-color: white;}#sk-container-id-1 label.sk-toggleable__label {cursor: pointer;display: block;width: 100%;margin-bottom: 0;padding: 0.3em;box-sizing: border-box;text-align: center;}#sk-container-id-1 label.sk-toggleable__label-arrow:before {content: \"▸\";float: left;margin-right: 0.25em;color: #696969;}#sk-container-id-1 label.sk-toggleable__label-arrow:hover:before {color: black;}#sk-container-id-1 div.sk-estimator:hover label.sk-toggleable__label-arrow:before {color: black;}#sk-container-id-1 div.sk-toggleable__content {max-height: 0;max-width: 0;overflow: hidden;text-align: left;background-color: #f0f8ff;}#sk-container-id-1 div.sk-toggleable__content pre {margin: 0.2em;color: black;border-radius: 0.25em;background-color: #f0f8ff;}#sk-container-id-1 input.sk-toggleable__control:checked~div.sk-toggleable__content {max-height: 200px;max-width: 100%;overflow: auto;}#sk-container-id-1 input.sk-toggleable__control:checked~label.sk-toggleable__label-arrow:before {content: \"▾\";}#sk-container-id-1 div.sk-estimator input.sk-toggleable__control:checked~label.sk-toggleable__label {background-color: #d4ebff;}#sk-container-id-1 div.sk-label input.sk-toggleable__control:checked~label.sk-toggleable__label {background-color: #d4ebff;}#sk-container-id-1 input.sk-hidden--visually {border: 0;clip: rect(1px 1px 1px 1px);clip: rect(1px, 1px, 1px, 1px);height: 1px;margin: -1px;overflow: hidden;padding: 0;position: absolute;width: 1px;}#sk-container-id-1 div.sk-estimator {font-family: monospace;background-color: #f0f8ff;border: 1px dotted black;border-radius: 0.25em;box-sizing: border-box;margin-bottom: 0.5em;}#sk-container-id-1 div.sk-estimator:hover {background-color: #d4ebff;}#sk-container-id-1 div.sk-parallel-item::after {content: \"\";width: 100%;border-bottom: 1px solid gray;flex-grow: 1;}#sk-container-id-1 div.sk-label:hover label.sk-toggleable__label {background-color: #d4ebff;}#sk-container-id-1 div.sk-serial::before {content: \"\";position: absolute;border-left: 1px solid gray;box-sizing: border-box;top: 0;bottom: 0;left: 50%;z-index: 0;}#sk-container-id-1 div.sk-serial {display: flex;flex-direction: column;align-items: center;background-color: white;padding-right: 0.2em;padding-left: 0.2em;position: relative;}#sk-container-id-1 div.sk-item {position: relative;z-index: 1;}#sk-container-id-1 div.sk-parallel {display: flex;align-items: stretch;justify-content: center;background-color: white;position: relative;}#sk-container-id-1 div.sk-item::before, #sk-container-id-1 div.sk-parallel-item::before {content: \"\";position: absolute;border-left: 1px solid gray;box-sizing: border-box;top: 0;bottom: 0;left: 50%;z-index: -1;}#sk-container-id-1 div.sk-parallel-item {display: flex;flex-direction: column;z-index: 1;position: relative;background-color: white;}#sk-container-id-1 div.sk-parallel-item:first-child::after {align-self: flex-end;width: 50%;}#sk-container-id-1 div.sk-parallel-item:last-child::after {align-self: flex-start;width: 50%;}#sk-container-id-1 div.sk-parallel-item:only-child::after {width: 0;}#sk-container-id-1 div.sk-dashed-wrapped {border: 1px dashed gray;margin: 0 0.4em 0.5em 0.4em;box-sizing: border-box;padding-bottom: 0.4em;background-color: white;}#sk-container-id-1 div.sk-label label {font-family: monospace;font-weight: bold;display: inline-block;line-height: 1.2em;}#sk-container-id-1 div.sk-label-container {text-align: center;}#sk-container-id-1 div.sk-container {/* jupyter's `normalize.less` sets `[hidden] { display: none; }` but bootstrap.min.css set `[hidden] { display: none !important; }` so we also need the `!important` here to be able to override the default hidden behavior on the sphinx rendered scikit-learn.org. See: https://github.com/scikit-learn/scikit-learn/issues/21755 */display: inline-block !important;position: relative;}#sk-container-id-1 div.sk-text-repr-fallback {display: none;}</style><div id=\"sk-container-id-1\" class=\"sk-top-container\"><div class=\"sk-text-repr-fallback\"><pre>GridSearchCV(cv=5, estimator=RandomForestRegressor(random_state=42), n_jobs=-1,\n",
       "             param_grid={&#x27;bootstrap&#x27;: [True], &#x27;max_depth&#x27;: [2, 3],\n",
       "                         &#x27;max_features&#x27;: [0.4, 0.6, 0.8],\n",
       "                         &#x27;min_samples_leaf&#x27;: [6, 8, 10],\n",
       "                         &#x27;min_samples_split&#x27;: [8, 10, 12],\n",
       "                         &#x27;n_estimators&#x27;: [100, 150]},\n",
       "             scoring=&#x27;neg_mean_squared_error&#x27;, verbose=2)</pre><b>In a Jupyter environment, please rerun this cell to show the HTML representation or trust the notebook. <br />On GitHub, the HTML representation is unable to render, please try loading this page with nbviewer.org.</b></div><div class=\"sk-container\" hidden><div class=\"sk-item sk-dashed-wrapped\"><div class=\"sk-label-container\"><div class=\"sk-label sk-toggleable\"><input class=\"sk-toggleable__control sk-hidden--visually\" id=\"sk-estimator-id-1\" type=\"checkbox\" ><label for=\"sk-estimator-id-1\" class=\"sk-toggleable__label sk-toggleable__label-arrow\">GridSearchCV</label><div class=\"sk-toggleable__content\"><pre>GridSearchCV(cv=5, estimator=RandomForestRegressor(random_state=42), n_jobs=-1,\n",
       "             param_grid={&#x27;bootstrap&#x27;: [True], &#x27;max_depth&#x27;: [2, 3],\n",
       "                         &#x27;max_features&#x27;: [0.4, 0.6, 0.8],\n",
       "                         &#x27;min_samples_leaf&#x27;: [6, 8, 10],\n",
       "                         &#x27;min_samples_split&#x27;: [8, 10, 12],\n",
       "                         &#x27;n_estimators&#x27;: [100, 150]},\n",
       "             scoring=&#x27;neg_mean_squared_error&#x27;, verbose=2)</pre></div></div></div><div class=\"sk-parallel\"><div class=\"sk-parallel-item\"><div class=\"sk-item\"><div class=\"sk-label-container\"><div class=\"sk-label sk-toggleable\"><input class=\"sk-toggleable__control sk-hidden--visually\" id=\"sk-estimator-id-2\" type=\"checkbox\" ><label for=\"sk-estimator-id-2\" class=\"sk-toggleable__label sk-toggleable__label-arrow\">estimator: RandomForestRegressor</label><div class=\"sk-toggleable__content\"><pre>RandomForestRegressor(random_state=42)</pre></div></div></div><div class=\"sk-serial\"><div class=\"sk-item\"><div class=\"sk-estimator sk-toggleable\"><input class=\"sk-toggleable__control sk-hidden--visually\" id=\"sk-estimator-id-3\" type=\"checkbox\" ><label for=\"sk-estimator-id-3\" class=\"sk-toggleable__label sk-toggleable__label-arrow\">RandomForestRegressor</label><div class=\"sk-toggleable__content\"><pre>RandomForestRegressor(random_state=42)</pre></div></div></div></div></div></div></div></div></div></div>"
      ],
      "text/plain": [
       "GridSearchCV(cv=5, estimator=RandomForestRegressor(random_state=42), n_jobs=-1,\n",
       "             param_grid={'bootstrap': [True], 'max_depth': [2, 3],\n",
       "                         'max_features': [0.4, 0.6, 0.8],\n",
       "                         'min_samples_leaf': [6, 8, 10],\n",
       "                         'min_samples_split': [8, 10, 12],\n",
       "                         'n_estimators': [100, 150]},\n",
       "             scoring='neg_mean_squared_error', verbose=2)"
      ]
     },
     "execution_count": 16,
     "metadata": {},
     "output_type": "execute_result"
    }
   ],
   "source": [
    "grid_search.fit(X_train_rfe, y_train)"
   ]
  },
  {
   "cell_type": "code",
   "execution_count": 17,
   "id": "044e60cd",
   "metadata": {
    "execution": {
     "iopub.execute_input": "2025-05-06T05:57:30.894350Z",
     "iopub.status.busy": "2025-05-06T05:57:30.893503Z",
     "iopub.status.idle": "2025-05-06T05:57:30.897662Z",
     "shell.execute_reply": "2025-05-06T05:57:30.896969Z"
    },
    "papermill": {
     "duration": 0.01273,
     "end_time": "2025-05-06T05:57:30.899066",
     "exception": false,
     "start_time": "2025-05-06T05:57:30.886336",
     "status": "completed"
    },
    "tags": []
   },
   "outputs": [],
   "source": [
    "# Best model\n",
    "best_model = grid_search.best_estimator_"
   ]
  },
  {
   "cell_type": "code",
   "execution_count": 18,
   "id": "9f70223e",
   "metadata": {
    "execution": {
     "iopub.execute_input": "2025-05-06T05:57:30.913215Z",
     "iopub.status.busy": "2025-05-06T05:57:30.912898Z",
     "iopub.status.idle": "2025-05-06T05:57:30.924928Z",
     "shell.execute_reply": "2025-05-06T05:57:30.923915Z"
    },
    "papermill": {
     "duration": 0.020892,
     "end_time": "2025-05-06T05:57:30.926530",
     "exception": false,
     "start_time": "2025-05-06T05:57:30.905638",
     "status": "completed"
    },
    "tags": []
   },
   "outputs": [],
   "source": [
    "# Predict (inverse log1p → expm1)\n",
    "y_pred = best_model.predict(X_test_rfe)"
   ]
  },
  {
   "cell_type": "code",
   "execution_count": 19,
   "id": "589a142f",
   "metadata": {
    "execution": {
     "iopub.execute_input": "2025-05-06T05:57:30.940215Z",
     "iopub.status.busy": "2025-05-06T05:57:30.939887Z",
     "iopub.status.idle": "2025-05-06T05:57:30.947206Z",
     "shell.execute_reply": "2025-05-06T05:57:30.946310Z"
    },
    "papermill": {
     "duration": 0.015835,
     "end_time": "2025-05-06T05:57:30.948645",
     "exception": false,
     "start_time": "2025-05-06T05:57:30.932810",
     "status": "completed"
    },
    "tags": []
   },
   "outputs": [],
   "source": [
    "from sklearn.metrics import mean_absolute_error, median_absolute_error, mean_squared_error, r2_score\n",
    "import numpy as np\n",
    "\n",
    "def smape(y_true, y_pred):\n",
    "    return 100 * np.mean(2 * np.abs(y_pred - y_true) / (np.abs(y_true) + np.abs(y_pred)))\n",
    "\n",
    "def wmape(y_true, y_pred):\n",
    "    return 100 * np.sum(np.abs(y_true - y_pred)) / np.sum(np.abs(y_true))\n",
    "\n",
    "def evaluate_model(model, X, y, dataset_name=\"\"):\n",
    "    y_pred = model.predict(X)\n",
    "    rmse = mean_squared_error(y, y_pred, squared=False)\n",
    "    r2 = r2_score(y, y_pred)\n",
    "    mae = mean_absolute_error(y, y_pred)\n",
    "    medae = median_absolute_error(y, y_pred)\n",
    "    wmape_score = wmape(y, y_pred)\n",
    "    smape_score = smape(y, y_pred)\n",
    "\n",
    "    print(f\"\\n📊 Evaluation on {dataset_name} Set:\")\n",
    "    print(f\"• RMSE   : {rmse:.4f}\")\n",
    "    print(f\"• R²     : {r2:.4f}\")\n",
    "    print(f\"• MAE    : {mae:.4f}\")\n",
    "    print(f\"• WMAPE  : {wmape_score:.2f}%\")"
   ]
  },
  {
   "cell_type": "code",
   "execution_count": 20,
   "id": "da40ab6c",
   "metadata": {
    "execution": {
     "iopub.execute_input": "2025-05-06T05:57:30.962394Z",
     "iopub.status.busy": "2025-05-06T05:57:30.962035Z",
     "iopub.status.idle": "2025-05-06T05:57:30.966928Z",
     "shell.execute_reply": "2025-05-06T05:57:30.965872Z"
    },
    "papermill": {
     "duration": 0.013407,
     "end_time": "2025-05-06T05:57:30.968346",
     "exception": false,
     "start_time": "2025-05-06T05:57:30.954939",
     "status": "completed"
    },
    "tags": []
   },
   "outputs": [
    {
     "name": "stdout",
     "output_type": "stream",
     "text": [
      "✅ Best Parameters from GridSearchCV:\n",
      "{'bootstrap': True, 'max_depth': 3, 'max_features': 0.8, 'min_samples_leaf': 6, 'min_samples_split': 8, 'n_estimators': 150}\n"
     ]
    }
   ],
   "source": [
    "# Print best parameters\n",
    "print(\"✅ Best Parameters from GridSearchCV:\")\n",
    "print(grid_search.best_params_)"
   ]
  },
  {
   "cell_type": "code",
   "execution_count": 21,
   "id": "e6d7169d",
   "metadata": {
    "execution": {
     "iopub.execute_input": "2025-05-06T05:57:30.982104Z",
     "iopub.status.busy": "2025-05-06T05:57:30.981806Z",
     "iopub.status.idle": "2025-05-06T05:57:30.997300Z",
     "shell.execute_reply": "2025-05-06T05:57:30.996280Z"
    },
    "papermill": {
     "duration": 0.024189,
     "end_time": "2025-05-06T05:57:30.998859",
     "exception": false,
     "start_time": "2025-05-06T05:57:30.974670",
     "status": "completed"
    },
    "tags": []
   },
   "outputs": [
    {
     "name": "stdout",
     "output_type": "stream",
     "text": [
      "\n",
      "📊 Evaluation on Training Set:\n",
      "• RMSE   : 4.7706\n",
      "• R²     : 0.6728\n",
      "• MAE    : 3.6212\n",
      "• WMAPE  : 33.90%\n"
     ]
    }
   ],
   "source": [
    "# Evaluate on both sets\n",
    "evaluate_model(best_model, X_train_rfe, y_train, \"Training\")"
   ]
  },
  {
   "cell_type": "code",
   "execution_count": 22,
   "id": "31ffb020",
   "metadata": {
    "execution": {
     "iopub.execute_input": "2025-05-06T05:57:31.014041Z",
     "iopub.status.busy": "2025-05-06T05:57:31.013741Z",
     "iopub.status.idle": "2025-05-06T05:57:31.028422Z",
     "shell.execute_reply": "2025-05-06T05:57:31.027164Z"
    },
    "papermill": {
     "duration": 0.023602,
     "end_time": "2025-05-06T05:57:31.029919",
     "exception": false,
     "start_time": "2025-05-06T05:57:31.006317",
     "status": "completed"
    },
    "tags": []
   },
   "outputs": [
    {
     "name": "stdout",
     "output_type": "stream",
     "text": [
      "\n",
      "📊 Evaluation on Testing Set:\n",
      "• RMSE   : 4.5563\n",
      "• R²     : 0.6248\n",
      "• MAE    : 3.9903\n",
      "• WMAPE  : 54.41%\n"
     ]
    }
   ],
   "source": [
    "evaluate_model(best_model, X_test_rfe, y_test, \"Testing\")"
   ]
  },
  {
   "cell_type": "code",
   "execution_count": 23,
   "id": "20e7d7df",
   "metadata": {
    "execution": {
     "iopub.execute_input": "2025-05-06T05:57:31.044823Z",
     "iopub.status.busy": "2025-05-06T05:57:31.044151Z",
     "iopub.status.idle": "2025-05-06T05:57:31.395596Z",
     "shell.execute_reply": "2025-05-06T05:57:31.394711Z"
    },
    "papermill": {
     "duration": 0.36065,
     "end_time": "2025-05-06T05:57:31.397320",
     "exception": false,
     "start_time": "2025-05-06T05:57:31.036670",
     "status": "completed"
    },
    "tags": []
   },
   "outputs": [
    {
     "data": {
      "image/png": "[encoded data removed]",
      "text/plain": [
       "<Figure size 700x600 with 1 Axes>"
      ]
     },
     "metadata": {},
     "output_type": "display_data"
    }
   ],
   "source": [
    "import matplotlib.pyplot as plt\n",
    "import seaborn as sns\n",
    "\n",
    "plt.figure(figsize=(7, 6))\n",
    "sns.scatterplot(x=y_test, y=y_pred, alpha=0.7, edgecolor=None)\n",
    "\n",
    "# Add 1:1 reference line\n",
    "min_val = min(y_test.min(), y_pred.min())\n",
    "max_val = max(y_test.max(), y_pred.max())\n",
    "plt.plot([min_val, max_val], [min_val, max_val], '--', color='red', label='1:1 Line')\n",
    "\n",
    "plt.xlabel('Actual Salinity')\n",
    "plt.ylabel('Predicted Salinity')\n",
    "plt.title('Predicted vs Actual Salinity (Test Set)')\n",
    "plt.legend()\n",
    "plt.grid(True)\n",
    "plt.tight_layout()\n",
    "plt.show()"
   ]
  },
  {
   "cell_type": "code",
   "execution_count": 24,
   "id": "a32c93ff",
   "metadata": {
    "execution": {
     "iopub.execute_input": "2025-05-06T05:57:31.414912Z",
     "iopub.status.busy": "2025-05-06T05:57:31.413855Z",
     "iopub.status.idle": "2025-05-06T05:57:31.658613Z",
     "shell.execute_reply": "2025-05-06T05:57:31.657724Z"
    },
    "papermill": {
     "duration": 0.255144,
     "end_time": "2025-05-06T05:57:31.660159",
     "exception": false,
     "start_time": "2025-05-06T05:57:31.405015",
     "status": "completed"
    },
    "tags": []
   },
   "outputs": [
    {
     "data": {
      "image/png": "[encoded data removed]",
      "text/plain": [
       "<Figure size 1000x600 with 1 Axes>"
      ]
     },
     "metadata": {},
     "output_type": "display_data"
    }
   ],
   "source": [
    "import pandas as pd\n",
    "import matplotlib.pyplot as plt\n",
    "import seaborn as sns\n",
    "\n",
    "# Get selected feature names from original DataFrame\n",
    "selected_features = X_train.columns[rfe.support_]\n",
    "\n",
    "# Create a DataFrame of features and their importances\n",
    "feature_importance = pd.DataFrame({\n",
    "    'Feature': selected_features,\n",
    "    'Importance': best_model.feature_importances_\n",
    "}).sort_values(by='Importance', ascending=False)\n",
    "\n",
    "# Plot top 20 features\n",
    "plt.figure(figsize=(10, 6))\n",
    "sns.barplot(data=feature_importance.head(20), x='Importance', y='Feature')\n",
    "plt.title(\"Top 10 Feature Importances (Random Forest)\")\n",
    "plt.tight_layout()\n",
    "plt.show()"
   ]
  }
 ],
 "metadata": {
  "kaggle": {
   "accelerator": "none",
   "dataSources": [
    {
     "datasetId": 7329643,
     "sourceId": 11678193,
     "sourceType": "datasetVersion"
    }
   ],
   "dockerImageVersionId": 31012,
   "isGpuEnabled": false,
   "isInternetEnabled": true,
   "language": "python",
   "sourceType": "notebook"
  },
  "kernelspec": {
   "display_name": "Python 3",
   "language": "python",
   "name": "python3"
  },
  "language_info": {
   "codemirror_mode": {
    "name": "ipython",
    "version": 3
   },
   "file_extension": ".py",
   "mimetype": "text/x-python",
   "name": "python",
   "nbconvert_exporter": "python",
   "pygments_lexer": "ipython3",
   "version": "3.11.11"
  },
  "papermill": {
   "default_parameters": {},
   "duration": 56.526368,
   "end_time": "2025-05-06T05:57:34.290790",
   "environment_variables": {},
   "exception": null,
   "input_path": "__notebook__.ipynb",
   "output_path": "__notebook__.ipynb",
   "parameters": {},
   "start_time": "2025-05-06T05:56:37.764422",
   "version": "2.6.0"
  }
 },
 "nbformat": 4,
 "nbformat_minor": 5
}
