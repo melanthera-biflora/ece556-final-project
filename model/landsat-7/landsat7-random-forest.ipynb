{
 "cells": [
  {
   "cell_type": "code",
   "execution_count": 1,
   "id": "a37a5f54",
   "metadata": {
    "_cell_guid": "b1076dfc-b9ad-4769-8c92-a6c4dae69d19",
    "_uuid": "8f2839f25d086af736a60e9eeb907d3b93b6e0e5",
    "execution": {
     "iopub.execute_input": "2025-05-05T18:52:33.587633Z",
     "iopub.status.busy": "2025-05-05T18:52:33.587324Z",
     "iopub.status.idle": "2025-05-05T18:52:38.574290Z",
     "shell.execute_reply": "2025-05-05T18:52:38.573096Z"
    },
    "papermill": {
     "duration": 4.996013,
     "end_time": "2025-05-05T18:52:38.576635",
     "exception": false,
     "start_time": "2025-05-05T18:52:33.580622",
     "status": "completed"
    },
    "tags": []
   },
   "outputs": [],
   "source": [
    "import numpy as np\n",
    "import pandas as pd\n",
    "from sklearn.ensemble import RandomForestRegressor\n",
    "from sklearn.model_selection import train_test_split\n",
    "from sklearn.metrics import mean_squared_error, r2_score, mean_absolute_error\n",
    "from sklearn.model_selection import GridSearchCV\n",
    "import seaborn as sns\n",
    "from sklearn.feature_selection import RFE"
   ]
  },
  {
   "cell_type": "code",
   "execution_count": 2,
   "id": "8d0fe53a",
   "metadata": {
    "execution": {
     "iopub.execute_input": "2025-05-05T18:52:38.586757Z",
     "iopub.status.busy": "2025-05-05T18:52:38.586329Z",
     "iopub.status.idle": "2025-05-05T18:52:38.626268Z",
     "shell.execute_reply": "2025-05-05T18:52:38.625167Z"
    },
    "papermill": {
     "duration": 0.047113,
     "end_time": "2025-05-05T18:52:38.628398",
     "exception": false,
     "start_time": "2025-05-05T18:52:38.581285",
     "status": "completed"
    },
    "tags": []
   },
   "outputs": [],
   "source": [
    "training_data = pd.read_csv('/kaggle/input/mekong-training-testing-set/landsat7_train.csv')\n",
    "testing_data = pd.read_csv('/kaggle/input/mekong-training-testing-set/landsat7_test.csv')"
   ]
  },
  {
   "cell_type": "code",
   "execution_count": 3,
   "id": "1280738f",
   "metadata": {
    "execution": {
     "iopub.execute_input": "2025-05-05T18:52:38.640200Z",
     "iopub.status.busy": "2025-05-05T18:52:38.639204Z",
     "iopub.status.idle": "2025-05-05T18:52:38.644463Z",
     "shell.execute_reply": "2025-05-05T18:52:38.643595Z"
    },
    "papermill": {
     "duration": 0.012712,
     "end_time": "2025-05-05T18:52:38.646037",
     "exception": false,
     "start_time": "2025-05-05T18:52:38.633325",
     "status": "completed"
    },
    "tags": []
   },
   "outputs": [],
   "source": [
    "# Change the type into date time\n",
    "def into_datetime(df):\n",
    "    df['date'] = pd.to_datetime(df['date'])\n",
    "    df['month'] = df['date'].dt.month\n",
    "    df['year'] = df['date'].dt.year"
   ]
  },
  {
   "cell_type": "code",
   "execution_count": 4,
   "id": "a564e05f",
   "metadata": {
    "execution": {
     "iopub.execute_input": "2025-05-05T18:52:38.655815Z",
     "iopub.status.busy": "2025-05-05T18:52:38.655483Z",
     "iopub.status.idle": "2025-05-05T18:52:38.675600Z",
     "shell.execute_reply": "2025-05-05T18:52:38.674612Z"
    },
    "papermill": {
     "duration": 0.026748,
     "end_time": "2025-05-05T18:52:38.677165",
     "exception": false,
     "start_time": "2025-05-05T18:52:38.650417",
     "status": "completed"
    },
    "tags": []
   },
   "outputs": [],
   "source": [
    "into_datetime(training_data)\n",
    "into_datetime(testing_data)"
   ]
  },
  {
   "cell_type": "code",
   "execution_count": 5,
   "id": "21a6c0e8",
   "metadata": {
    "execution": {
     "iopub.execute_input": "2025-05-05T18:52:38.686683Z",
     "iopub.status.busy": "2025-05-05T18:52:38.686389Z",
     "iopub.status.idle": "2025-05-05T18:52:38.710513Z",
     "shell.execute_reply": "2025-05-05T18:52:38.709391Z"
    },
    "papermill": {
     "duration": 0.030925,
     "end_time": "2025-05-05T18:52:38.712347",
     "exception": false,
     "start_time": "2025-05-05T18:52:38.681422",
     "status": "completed"
    },
    "tags": []
   },
   "outputs": [
    {
     "name": "stdout",
     "output_type": "stream",
     "text": [
      "<class 'pandas.core.frame.DataFrame'>\n",
      "RangeIndex: 56 entries, 0 to 55\n",
      "Data columns (total 38 columns):\n",
      " #   Column     Non-Null Count  Dtype         \n",
      "---  ------     --------------  -----         \n",
      " 0   AWEInsh    56 non-null     float64       \n",
      " 1   AWEIsh     56 non-null     float64       \n",
      " 2   MNDWI      56 non-null     float64       \n",
      " 3   NDWI       56 non-null     float64       \n",
      " 4   SR_B1      56 non-null     float64       \n",
      " 5   SR_B2      56 non-null     float64       \n",
      " 6   SR_B3      56 non-null     float64       \n",
      " 7   SR_B4      56 non-null     float64       \n",
      " 8   SR_B5      56 non-null     float64       \n",
      " 9   SR_B7      56 non-null     float64       \n",
      " 10  ST_B6      56 non-null     float64       \n",
      " 11  WI1        56 non-null     float64       \n",
      " 12  WI2        56 non-null     float64       \n",
      " 13  date       56 non-null     datetime64[ns]\n",
      " 14  pivot      56 non-null     int64         \n",
      " 15  reducer    56 non-null     object        \n",
      " 16  source     56 non-null     object        \n",
      " 17  Station    56 non-null     object        \n",
      " 18  Latitude   56 non-null     float64       \n",
      " 19  Longitude  56 non-null     float64       \n",
      " 20  1          56 non-null     float64       \n",
      " 21  3          56 non-null     float64       \n",
      " 22  5          56 non-null     float64       \n",
      " 23  7          56 non-null     float64       \n",
      " 24  9          56 non-null     float64       \n",
      " 25  11         56 non-null     float64       \n",
      " 26  13         56 non-null     float64       \n",
      " 27  15         56 non-null     float64       \n",
      " 28  17         56 non-null     float64       \n",
      " 29  19         56 non-null     float64       \n",
      " 30  21         56 non-null     float64       \n",
      " 31  23         56 non-null     float64       \n",
      " 32  min        56 non-null     float64       \n",
      " 33  max        56 non-null     float64       \n",
      " 34  mean       56 non-null     float64       \n",
      " 35  median     56 non-null     float64       \n",
      " 36  month      56 non-null     int32         \n",
      " 37  year       56 non-null     int32         \n",
      "dtypes: datetime64[ns](1), float64(31), int32(2), int64(1), object(3)\n",
      "memory usage: 16.3+ KB\n"
     ]
    }
   ],
   "source": [
    "training_data.info()"
   ]
  },
  {
   "cell_type": "code",
   "execution_count": 6,
   "id": "26a5d2cd",
   "metadata": {
    "execution": {
     "iopub.execute_input": "2025-05-05T18:52:38.722491Z",
     "iopub.status.busy": "2025-05-05T18:52:38.722169Z",
     "iopub.status.idle": "2025-05-05T18:52:38.734952Z",
     "shell.execute_reply": "2025-05-05T18:52:38.733570Z"
    },
    "papermill": {
     "duration": 0.019451,
     "end_time": "2025-05-05T18:52:38.736549",
     "exception": false,
     "start_time": "2025-05-05T18:52:38.717098",
     "status": "completed"
    },
    "tags": []
   },
   "outputs": [
    {
     "name": "stdout",
     "output_type": "stream",
     "text": [
      "<class 'pandas.core.frame.DataFrame'>\n",
      "RangeIndex: 11 entries, 0 to 10\n",
      "Data columns (total 38 columns):\n",
      " #   Column     Non-Null Count  Dtype         \n",
      "---  ------     --------------  -----         \n",
      " 0   AWEInsh    11 non-null     float64       \n",
      " 1   AWEIsh     11 non-null     float64       \n",
      " 2   MNDWI      11 non-null     float64       \n",
      " 3   NDWI       11 non-null     float64       \n",
      " 4   SR_B1      11 non-null     float64       \n",
      " 5   SR_B2      11 non-null     float64       \n",
      " 6   SR_B3      11 non-null     float64       \n",
      " 7   SR_B4      11 non-null     float64       \n",
      " 8   SR_B5      11 non-null     float64       \n",
      " 9   SR_B7      11 non-null     float64       \n",
      " 10  ST_B6      11 non-null     float64       \n",
      " 11  WI1        11 non-null     float64       \n",
      " 12  WI2        11 non-null     float64       \n",
      " 13  date       11 non-null     datetime64[ns]\n",
      " 14  pivot      11 non-null     int64         \n",
      " 15  reducer    11 non-null     object        \n",
      " 16  source     11 non-null     object        \n",
      " 17  Station    11 non-null     object        \n",
      " 18  Latitude   11 non-null     float64       \n",
      " 19  Longitude  11 non-null     float64       \n",
      " 20  1          11 non-null     float64       \n",
      " 21  3          11 non-null     float64       \n",
      " 22  5          11 non-null     float64       \n",
      " 23  7          11 non-null     float64       \n",
      " 24  9          11 non-null     float64       \n",
      " 25  11         11 non-null     float64       \n",
      " 26  13         11 non-null     float64       \n",
      " 27  15         11 non-null     float64       \n",
      " 28  17         11 non-null     float64       \n",
      " 29  19         11 non-null     float64       \n",
      " 30  21         11 non-null     float64       \n",
      " 31  23         11 non-null     float64       \n",
      " 32  min        11 non-null     float64       \n",
      " 33  max        11 non-null     float64       \n",
      " 34  mean       11 non-null     float64       \n",
      " 35  median     11 non-null     float64       \n",
      " 36  month      11 non-null     int32         \n",
      " 37  year       11 non-null     int32         \n",
      "dtypes: datetime64[ns](1), float64(31), int32(2), int64(1), object(3)\n",
      "memory usage: 3.3+ KB\n"
     ]
    }
   ],
   "source": [
    "testing_data.info()"
   ]
  },
  {
   "cell_type": "code",
   "execution_count": 7,
   "id": "3b9b15e0",
   "metadata": {
    "execution": {
     "iopub.execute_input": "2025-05-05T18:52:38.747116Z",
     "iopub.status.busy": "2025-05-05T18:52:38.746720Z",
     "iopub.status.idle": "2025-05-05T18:52:38.751381Z",
     "shell.execute_reply": "2025-05-05T18:52:38.750605Z"
    },
    "papermill": {
     "duration": 0.011309,
     "end_time": "2025-05-05T18:52:38.752807",
     "exception": false,
     "start_time": "2025-05-05T18:52:38.741498",
     "status": "completed"
    },
    "tags": []
   },
   "outputs": [],
   "source": [
    "features = [ 'SR_B5',  'ST_B6', 'WI2', 'Latitude', 'Longitude', 'AWEInsh', 'AWEIsh', 'MNDWI', 'NDWI', 'SR_B1', 'SR_B2', 'SR_B3']"
   ]
  },
  {
   "cell_type": "code",
   "execution_count": 8,
   "id": "c0d23d1d",
   "metadata": {
    "execution": {
     "iopub.execute_input": "2025-05-05T18:52:38.763128Z",
     "iopub.status.busy": "2025-05-05T18:52:38.762671Z",
     "iopub.status.idle": "2025-05-05T18:52:38.767451Z",
     "shell.execute_reply": "2025-05-05T18:52:38.766479Z"
    },
    "papermill": {
     "duration": 0.011772,
     "end_time": "2025-05-05T18:52:38.769107",
     "exception": false,
     "start_time": "2025-05-05T18:52:38.757335",
     "status": "completed"
    },
    "tags": []
   },
   "outputs": [],
   "source": [
    "target = 'max'"
   ]
  },
  {
   "cell_type": "code",
   "execution_count": 9,
   "id": "d0d86e53",
   "metadata": {
    "execution": {
     "iopub.execute_input": "2025-05-05T18:52:38.779250Z",
     "iopub.status.busy": "2025-05-05T18:52:38.778846Z",
     "iopub.status.idle": "2025-05-05T18:52:38.787164Z",
     "shell.execute_reply": "2025-05-05T18:52:38.786168Z"
    },
    "papermill": {
     "duration": 0.015051,
     "end_time": "2025-05-05T18:52:38.788666",
     "exception": false,
     "start_time": "2025-05-05T18:52:38.773615",
     "status": "completed"
    },
    "tags": []
   },
   "outputs": [],
   "source": [
    "# Split data\n",
    "X_train = training_data[features]\n",
    "y_train = training_data[target]\n",
    "X_test = testing_data[features]\n",
    "y_test = testing_data[target]"
   ]
  },
  {
   "cell_type": "code",
   "execution_count": 10,
   "id": "ca849971",
   "metadata": {
    "execution": {
     "iopub.execute_input": "2025-05-05T18:52:38.798997Z",
     "iopub.status.busy": "2025-05-05T18:52:38.798594Z",
     "iopub.status.idle": "2025-05-05T18:52:38.803478Z",
     "shell.execute_reply": "2025-05-05T18:52:38.802487Z"
    },
    "papermill": {
     "duration": 0.012263,
     "end_time": "2025-05-05T18:52:38.805433",
     "exception": false,
     "start_time": "2025-05-05T18:52:38.793170",
     "status": "completed"
    },
    "tags": []
   },
   "outputs": [],
   "source": [
    "# Define model\n",
    "model = RandomForestRegressor(random_state=42)"
   ]
  },
  {
   "cell_type": "code",
   "execution_count": 11,
   "id": "e2fe63b6",
   "metadata": {
    "execution": {
     "iopub.execute_input": "2025-05-05T18:52:38.815851Z",
     "iopub.status.busy": "2025-05-05T18:52:38.815440Z",
     "iopub.status.idle": "2025-05-05T18:52:39.243455Z",
     "shell.execute_reply": "2025-05-05T18:52:39.242553Z"
    },
    "papermill": {
     "duration": 0.435326,
     "end_time": "2025-05-05T18:52:39.245330",
     "exception": false,
     "start_time": "2025-05-05T18:52:38.810004",
     "status": "completed"
    },
    "tags": []
   },
   "outputs": [],
   "source": [
    "# Apply RFE\n",
    "rfe = RFE(estimator=model, n_features_to_select=10)  # Choose number of features\n",
    "X_train_rfe = rfe.fit_transform(X_train, y_train)\n",
    "X_test_rfe = rfe.transform(X_test)"
   ]
  },
  {
   "cell_type": "code",
   "execution_count": 12,
   "id": "2fc39fc3",
   "metadata": {
    "execution": {
     "iopub.execute_input": "2025-05-05T18:52:39.255684Z",
     "iopub.status.busy": "2025-05-05T18:52:39.255333Z",
     "iopub.status.idle": "2025-05-05T18:52:39.259887Z",
     "shell.execute_reply": "2025-05-05T18:52:39.258886Z"
    },
    "papermill": {
     "duration": 0.011817,
     "end_time": "2025-05-05T18:52:39.261704",
     "exception": false,
     "start_time": "2025-05-05T18:52:39.249887",
     "status": "completed"
    },
    "tags": []
   },
   "outputs": [],
   "source": [
    "# Apply log-transform to target (use log1p to handle zeros)\n",
    "#y_train_log = np.log1p(training_data[target])"
   ]
  },
  {
   "cell_type": "code",
   "execution_count": 13,
   "id": "51c72967",
   "metadata": {
    "execution": {
     "iopub.execute_input": "2025-05-05T18:52:39.272623Z",
     "iopub.status.busy": "2025-05-05T18:52:39.272309Z",
     "iopub.status.idle": "2025-05-05T18:52:39.277376Z",
     "shell.execute_reply": "2025-05-05T18:52:39.276460Z"
    },
    "papermill": {
     "duration": 0.012421,
     "end_time": "2025-05-05T18:52:39.278982",
     "exception": false,
     "start_time": "2025-05-05T18:52:39.266561",
     "status": "completed"
    },
    "tags": []
   },
   "outputs": [],
   "source": [
    "param_grid = {\n",
    "    'n_estimators': [100, 200],            # Reduce number of trees\n",
    "    'max_depth': [5, 10],                  # Prevent very deep trees\n",
    "    'min_samples_split': [5, 10],          # More conservative splits\n",
    "    'min_samples_leaf': [4, 6, 8],         # Leaf must have enough samples\n",
    "    'max_features': ['sqrt', 0.3]          # Reduce feature randomness\n",
    "}"
   ]
  },
  {
   "cell_type": "code",
   "execution_count": 14,
   "id": "8df8c2c8",
   "metadata": {
    "execution": {
     "iopub.execute_input": "2025-05-05T18:52:39.289637Z",
     "iopub.status.busy": "2025-05-05T18:52:39.289320Z",
     "iopub.status.idle": "2025-05-05T18:52:39.295349Z",
     "shell.execute_reply": "2025-05-05T18:52:39.294166Z"
    },
    "papermill": {
     "duration": 0.013293,
     "end_time": "2025-05-05T18:52:39.296940",
     "exception": false,
     "start_time": "2025-05-05T18:52:39.283647",
     "status": "completed"
    },
    "tags": []
   },
   "outputs": [],
   "source": [
    "# Initialize and run GridSearchCV\n",
    "rf = RandomForestRegressor(random_state=42)\n",
    "grid_search = GridSearchCV(estimator=rf,\n",
    "                           param_grid=param_grid,\n",
    "                           cv=5,\n",
    "                           scoring='neg_mean_squared_error',\n",
    "                           n_jobs=-1,\n",
    "                           verbose=2)"
   ]
  },
  {
   "cell_type": "code",
   "execution_count": 15,
   "id": "d41e5ee0",
   "metadata": {
    "execution": {
     "iopub.execute_input": "2025-05-05T18:52:39.307634Z",
     "iopub.status.busy": "2025-05-05T18:52:39.307284Z",
     "iopub.status.idle": "2025-05-05T18:53:02.265335Z",
     "shell.execute_reply": "2025-05-05T18:53:02.264142Z"
    },
    "papermill": {
     "duration": 22.96554,
     "end_time": "2025-05-05T18:53:02.267167",
     "exception": false,
     "start_time": "2025-05-05T18:52:39.301627",
     "status": "completed"
    },
    "tags": []
   },
   "outputs": [
    {
     "name": "stdout",
     "output_type": "stream",
     "text": [
      "Fitting 5 folds for each of 48 candidates, totalling 240 fits\n"
     ]
    },
    {
     "data": {
      "text/html": [
       "<style>#sk-container-id-1 {color: black;background-color: white;}#sk-container-id-1 pre{padding: 0;}#sk-container-id-1 div.sk-toggleable {background-color: white;}#sk-container-id-1 label.sk-toggleable__label {cursor: pointer;display: block;width: 100%;margin-bottom: 0;padding: 0.3em;box-sizing: border-box;text-align: center;}#sk-container-id-1 label.sk-toggleable__label-arrow:before {content: \"▸\";float: left;margin-right: 0.25em;color: #696969;}#sk-container-id-1 label.sk-toggleable__label-arrow:hover:before {color: black;}#sk-container-id-1 div.sk-estimator:hover label.sk-toggleable__label-arrow:before {color: black;}#sk-container-id-1 div.sk-toggleable__content {max-height: 0;max-width: 0;overflow: hidden;text-align: left;background-color: #f0f8ff;}#sk-container-id-1 div.sk-toggleable__content pre {margin: 0.2em;color: black;border-radius: 0.25em;background-color: #f0f8ff;}#sk-container-id-1 input.sk-toggleable__control:checked~div.sk-toggleable__content {max-height: 200px;max-width: 100%;overflow: auto;}#sk-container-id-1 input.sk-toggleable__control:checked~label.sk-toggleable__label-arrow:before {content: \"▾\";}#sk-container-id-1 div.sk-estimator input.sk-toggleable__control:checked~label.sk-toggleable__label {background-color: #d4ebff;}#sk-container-id-1 div.sk-label input.sk-toggleable__control:checked~label.sk-toggleable__label {background-color: #d4ebff;}#sk-container-id-1 input.sk-hidden--visually {border: 0;clip: rect(1px 1px 1px 1px);clip: rect(1px, 1px, 1px, 1px);height: 1px;margin: -1px;overflow: hidden;padding: 0;position: absolute;width: 1px;}#sk-container-id-1 div.sk-estimator {font-family: monospace;background-color: #f0f8ff;border: 1px dotted black;border-radius: 0.25em;box-sizing: border-box;margin-bottom: 0.5em;}#sk-container-id-1 div.sk-estimator:hover {background-color: #d4ebff;}#sk-container-id-1 div.sk-parallel-item::after {content: \"\";width: 100%;border-bottom: 1px solid gray;flex-grow: 1;}#sk-container-id-1 div.sk-label:hover label.sk-toggleable__label {background-color: #d4ebff;}#sk-container-id-1 div.sk-serial::before {content: \"\";position: absolute;border-left: 1px solid gray;box-sizing: border-box;top: 0;bottom: 0;left: 50%;z-index: 0;}#sk-container-id-1 div.sk-serial {display: flex;flex-direction: column;align-items: center;background-color: white;padding-right: 0.2em;padding-left: 0.2em;position: relative;}#sk-container-id-1 div.sk-item {position: relative;z-index: 1;}#sk-container-id-1 div.sk-parallel {display: flex;align-items: stretch;justify-content: center;background-color: white;position: relative;}#sk-container-id-1 div.sk-item::before, #sk-container-id-1 div.sk-parallel-item::before {content: \"\";position: absolute;border-left: 1px solid gray;box-sizing: border-box;top: 0;bottom: 0;left: 50%;z-index: -1;}#sk-container-id-1 div.sk-parallel-item {display: flex;flex-direction: column;z-index: 1;position: relative;background-color: white;}#sk-container-id-1 div.sk-parallel-item:first-child::after {align-self: flex-end;width: 50%;}#sk-container-id-1 div.sk-parallel-item:last-child::after {align-self: flex-start;width: 50%;}#sk-container-id-1 div.sk-parallel-item:only-child::after {width: 0;}#sk-container-id-1 div.sk-dashed-wrapped {border: 1px dashed gray;margin: 0 0.4em 0.5em 0.4em;box-sizing: border-box;padding-bottom: 0.4em;background-color: white;}#sk-container-id-1 div.sk-label label {font-family: monospace;font-weight: bold;display: inline-block;line-height: 1.2em;}#sk-container-id-1 div.sk-label-container {text-align: center;}#sk-container-id-1 div.sk-container {/* jupyter's `normalize.less` sets `[hidden] { display: none; }` but bootstrap.min.css set `[hidden] { display: none !important; }` so we also need the `!important` here to be able to override the default hidden behavior on the sphinx rendered scikit-learn.org. See: https://github.com/scikit-learn/scikit-learn/issues/21755 */display: inline-block !important;position: relative;}#sk-container-id-1 div.sk-text-repr-fallback {display: none;}</style><div id=\"sk-container-id-1\" class=\"sk-top-container\"><div class=\"sk-text-repr-fallback\"><pre>GridSearchCV(cv=5, estimator=RandomForestRegressor(random_state=42), n_jobs=-1,\n",
       "             param_grid={&#x27;max_depth&#x27;: [5, 10], &#x27;max_features&#x27;: [&#x27;sqrt&#x27;, 0.3],\n",
       "                         &#x27;min_samples_leaf&#x27;: [4, 6, 8],\n",
       "                         &#x27;min_samples_split&#x27;: [5, 10],\n",
       "                         &#x27;n_estimators&#x27;: [100, 200]},\n",
       "             scoring=&#x27;neg_mean_squared_error&#x27;, verbose=2)</pre><b>In a Jupyter environment, please rerun this cell to show the HTML representation or trust the notebook. <br />On GitHub, the HTML representation is unable to render, please try loading this page with nbviewer.org.</b></div><div class=\"sk-container\" hidden><div class=\"sk-item sk-dashed-wrapped\"><div class=\"sk-label-container\"><div class=\"sk-label sk-toggleable\"><input class=\"sk-toggleable__control sk-hidden--visually\" id=\"sk-estimator-id-1\" type=\"checkbox\" ><label for=\"sk-estimator-id-1\" class=\"sk-toggleable__label sk-toggleable__label-arrow\">GridSearchCV</label><div class=\"sk-toggleable__content\"><pre>GridSearchCV(cv=5, estimator=RandomForestRegressor(random_state=42), n_jobs=-1,\n",
       "             param_grid={&#x27;max_depth&#x27;: [5, 10], &#x27;max_features&#x27;: [&#x27;sqrt&#x27;, 0.3],\n",
       "                         &#x27;min_samples_leaf&#x27;: [4, 6, 8],\n",
       "                         &#x27;min_samples_split&#x27;: [5, 10],\n",
       "                         &#x27;n_estimators&#x27;: [100, 200]},\n",
       "             scoring=&#x27;neg_mean_squared_error&#x27;, verbose=2)</pre></div></div></div><div class=\"sk-parallel\"><div class=\"sk-parallel-item\"><div class=\"sk-item\"><div class=\"sk-label-container\"><div class=\"sk-label sk-toggleable\"><input class=\"sk-toggleable__control sk-hidden--visually\" id=\"sk-estimator-id-2\" type=\"checkbox\" ><label for=\"sk-estimator-id-2\" class=\"sk-toggleable__label sk-toggleable__label-arrow\">estimator: RandomForestRegressor</label><div class=\"sk-toggleable__content\"><pre>RandomForestRegressor(random_state=42)</pre></div></div></div><div class=\"sk-serial\"><div class=\"sk-item\"><div class=\"sk-estimator sk-toggleable\"><input class=\"sk-toggleable__control sk-hidden--visually\" id=\"sk-estimator-id-3\" type=\"checkbox\" ><label for=\"sk-estimator-id-3\" class=\"sk-toggleable__label sk-toggleable__label-arrow\">RandomForestRegressor</label><div class=\"sk-toggleable__content\"><pre>RandomForestRegressor(random_state=42)</pre></div></div></div></div></div></div></div></div></div></div>"
      ],
      "text/plain": [
       "GridSearchCV(cv=5, estimator=RandomForestRegressor(random_state=42), n_jobs=-1,\n",
       "             param_grid={'max_depth': [5, 10], 'max_features': ['sqrt', 0.3],\n",
       "                         'min_samples_leaf': [4, 6, 8],\n",
       "                         'min_samples_split': [5, 10],\n",
       "                         'n_estimators': [100, 200]},\n",
       "             scoring='neg_mean_squared_error', verbose=2)"
      ]
     },
     "execution_count": 15,
     "metadata": {},
     "output_type": "execute_result"
    }
   ],
   "source": [
    "grid_search.fit(X_train_rfe, y_train)"
   ]
  },
  {
   "cell_type": "code",
   "execution_count": 16,
   "id": "99098b7c",
   "metadata": {
    "execution": {
     "iopub.execute_input": "2025-05-05T18:53:02.278731Z",
     "iopub.status.busy": "2025-05-05T18:53:02.278360Z",
     "iopub.status.idle": "2025-05-05T18:53:02.283321Z",
     "shell.execute_reply": "2025-05-05T18:53:02.282443Z"
    },
    "papermill": {
     "duration": 0.012603,
     "end_time": "2025-05-05T18:53:02.285154",
     "exception": false,
     "start_time": "2025-05-05T18:53:02.272551",
     "status": "completed"
    },
    "tags": []
   },
   "outputs": [],
   "source": [
    "# Best model\n",
    "best_model = grid_search.best_estimator_"
   ]
  },
  {
   "cell_type": "code",
   "execution_count": 17,
   "id": "c870ef85",
   "metadata": {
    "execution": {
     "iopub.execute_input": "2025-05-05T18:53:02.296245Z",
     "iopub.status.busy": "2025-05-05T18:53:02.295890Z",
     "iopub.status.idle": "2025-05-05T18:53:02.307726Z",
     "shell.execute_reply": "2025-05-05T18:53:02.306438Z"
    },
    "papermill": {
     "duration": 0.019328,
     "end_time": "2025-05-05T18:53:02.309605",
     "exception": false,
     "start_time": "2025-05-05T18:53:02.290277",
     "status": "completed"
    },
    "tags": []
   },
   "outputs": [],
   "source": [
    "# Predict (inverse log1p → expm1)\n",
    "y_pred = best_model.predict(X_test_rfe)"
   ]
  },
  {
   "cell_type": "code",
   "execution_count": 18,
   "id": "5e5e4593",
   "metadata": {
    "execution": {
     "iopub.execute_input": "2025-05-05T18:53:02.320971Z",
     "iopub.status.busy": "2025-05-05T18:53:02.320004Z",
     "iopub.status.idle": "2025-05-05T18:53:02.326762Z",
     "shell.execute_reply": "2025-05-05T18:53:02.325909Z"
    },
    "papermill": {
     "duration": 0.014245,
     "end_time": "2025-05-05T18:53:02.328631",
     "exception": false,
     "start_time": "2025-05-05T18:53:02.314386",
     "status": "completed"
    },
    "tags": []
   },
   "outputs": [],
   "source": [
    "def wmape(y_true, y_pred):\n",
    "    return 100 * np.sum(np.abs(y_true - y_pred)) / (np.sum(np.abs(y_true)) + 1e-8)\n",
    "\n",
    "def evaluate_model(model, X, y, dataset_name=\"\"):\n",
    "    y_pred = model.predict(X)\n",
    "    rmse = mean_squared_error(y, y_pred, squared=False)\n",
    "    r2 = r2_score(y, y_pred)\n",
    "    mae = mean_absolute_error(y, y_pred)\n",
    "    wmape_score = wmape(y, y_pred)\n",
    "\n",
    "    print(f\"\\n📊 Evaluation on {dataset_name} Set:\")\n",
    "    print(f\"• RMSE  : {rmse:.4f}\")\n",
    "    print(f\"• R²    : {r2:.4f}\")\n",
    "    print(f\"• MAE   : {mae:.4f}\")\n",
    "    print(f\"• WMAPE : {wmape_score:.2f}%\")"
   ]
  },
  {
   "cell_type": "code",
   "execution_count": 19,
   "id": "afa03888",
   "metadata": {
    "execution": {
     "iopub.execute_input": "2025-05-05T18:53:02.340279Z",
     "iopub.status.busy": "2025-05-05T18:53:02.339949Z",
     "iopub.status.idle": "2025-05-05T18:53:02.345290Z",
     "shell.execute_reply": "2025-05-05T18:53:02.344116Z"
    },
    "papermill": {
     "duration": 0.013071,
     "end_time": "2025-05-05T18:53:02.346969",
     "exception": false,
     "start_time": "2025-05-05T18:53:02.333898",
     "status": "completed"
    },
    "tags": []
   },
   "outputs": [
    {
     "name": "stdout",
     "output_type": "stream",
     "text": [
      "✅ Best Parameters from GridSearchCV:\n",
      "{'max_depth': 5, 'max_features': 'sqrt', 'min_samples_leaf': 4, 'min_samples_split': 10, 'n_estimators': 100}\n"
     ]
    }
   ],
   "source": [
    "# Print best parameters\n",
    "print(\"✅ Best Parameters from GridSearchCV:\")\n",
    "print(grid_search.best_params_)"
   ]
  },
  {
   "cell_type": "code",
   "execution_count": 20,
   "id": "be7c3d13",
   "metadata": {
    "execution": {
     "iopub.execute_input": "2025-05-05T18:53:02.358929Z",
     "iopub.status.busy": "2025-05-05T18:53:02.357819Z",
     "iopub.status.idle": "2025-05-05T18:53:02.371152Z",
     "shell.execute_reply": "2025-05-05T18:53:02.370055Z"
    },
    "papermill": {
     "duration": 0.021252,
     "end_time": "2025-05-05T18:53:02.373211",
     "exception": false,
     "start_time": "2025-05-05T18:53:02.351959",
     "status": "completed"
    },
    "tags": []
   },
   "outputs": [
    {
     "name": "stdout",
     "output_type": "stream",
     "text": [
      "\n",
      "📊 Evaluation on Training Set:\n",
      "• RMSE  : 4.3533\n",
      "• R²    : 0.6797\n",
      "• MAE   : 3.4651\n",
      "• WMAPE : 32.74%\n"
     ]
    }
   ],
   "source": [
    "# Evaluate on both sets\n",
    "evaluate_model(best_model, X_train_rfe, y_train, \"Training\")\n"
   ]
  },
  {
   "cell_type": "code",
   "execution_count": 21,
   "id": "f5e469f2",
   "metadata": {
    "execution": {
     "iopub.execute_input": "2025-05-05T18:53:02.384473Z",
     "iopub.status.busy": "2025-05-05T18:53:02.383847Z",
     "iopub.status.idle": "2025-05-05T18:53:02.399187Z",
     "shell.execute_reply": "2025-05-05T18:53:02.398226Z"
    },
    "papermill": {
     "duration": 0.022398,
     "end_time": "2025-05-05T18:53:02.400649",
     "exception": false,
     "start_time": "2025-05-05T18:53:02.378251",
     "status": "completed"
    },
    "tags": []
   },
   "outputs": [
    {
     "name": "stdout",
     "output_type": "stream",
     "text": [
      "\n",
      "📊 Evaluation on Testing Set:\n",
      "• RMSE  : 4.0712\n",
      "• R²    : 0.6710\n",
      "• MAE   : 3.3147\n",
      "• WMAPE : 44.68%\n"
     ]
    }
   ],
   "source": [
    "evaluate_model(best_model, X_test_rfe, y_test, \"Testing\")"
   ]
  },
  {
   "cell_type": "code",
   "execution_count": 22,
   "id": "b7d0a0cf",
   "metadata": {
    "execution": {
     "iopub.execute_input": "2025-05-05T18:53:02.412015Z",
     "iopub.status.busy": "2025-05-05T18:53:02.411599Z",
     "iopub.status.idle": "2025-05-05T18:53:02.807016Z",
     "shell.execute_reply": "2025-05-05T18:53:02.806070Z"
    },
    "papermill": {
     "duration": 0.402816,
     "end_time": "2025-05-05T18:53:02.808645",
     "exception": false,
     "start_time": "2025-05-05T18:53:02.405829",
     "status": "completed"
    },
    "tags": []
   },
   "outputs": [
    {
     "data": {
      "image/png": "[encoded data removed]",
      "text/plain": [
       "<Figure size 700x600 with 1 Axes>"
      ]
     },
     "metadata": {},
     "output_type": "display_data"
    }
   ],
   "source": [
    "import matplotlib.pyplot as plt\n",
    "import seaborn as sns\n",
    "\n",
    "plt.figure(figsize=(7, 6))\n",
    "sns.scatterplot(x=y_test, y=y_pred, alpha=0.7, edgecolor=None)\n",
    "\n",
    "# Add 1:1 reference line\n",
    "min_val = min(y_test.min(), y_pred.min())\n",
    "max_val = max(y_test.max(), y_pred.max())\n",
    "plt.plot([min_val, max_val], [min_val, max_val], '--', color='red', label='1:1 Line')\n",
    "\n",
    "plt.xlabel('Actual Salinity')\n",
    "plt.ylabel('Predicted Salinity')\n",
    "plt.title('Predicted vs Actual Salinity (Test Set)')\n",
    "plt.legend()\n",
    "plt.grid(True)\n",
    "plt.tight_layout()\n",
    "plt.show()"
   ]
  },
  {
   "cell_type": "code",
   "execution_count": 23,
   "id": "6d4381f7",
   "metadata": {
    "execution": {
     "iopub.execute_input": "2025-05-05T18:53:02.821625Z",
     "iopub.status.busy": "2025-05-05T18:53:02.821321Z",
     "iopub.status.idle": "2025-05-05T18:53:03.071497Z",
     "shell.execute_reply": "2025-05-05T18:53:03.070402Z"
    },
    "papermill": {
     "duration": 0.258286,
     "end_time": "2025-05-05T18:53:03.072974",
     "exception": false,
     "start_time": "2025-05-05T18:53:02.814688",
     "status": "completed"
    },
    "tags": []
   },
   "outputs": [
    {
     "data": {
      "image/png": "[encoded data removed]",
      "text/plain": [
       "<Figure size 1000x600 with 1 Axes>"
      ]
     },
     "metadata": {},
     "output_type": "display_data"
    }
   ],
   "source": [
    "import pandas as pd\n",
    "import matplotlib.pyplot as plt\n",
    "import seaborn as sns\n",
    "\n",
    "# Get selected feature names from original DataFrame\n",
    "selected_features = X_train.columns[rfe.support_]\n",
    "\n",
    "# Create a DataFrame of features and their importances\n",
    "feature_importance = pd.DataFrame({\n",
    "    'Feature': selected_features,\n",
    "    'Importance': best_model.feature_importances_\n",
    "}).sort_values(by='Importance', ascending=False)\n",
    "\n",
    "# Plot top 20 features\n",
    "plt.figure(figsize=(10, 6))\n",
    "sns.barplot(data=feature_importance.head(20), x='Importance', y='Feature')\n",
    "plt.title(\"Top 20 Feature Importances (Random Forest)\")\n",
    "plt.tight_layout()\n",
    "plt.show()\n"
   ]
  }
 ],
 "metadata": {
  "kaggle": {
   "accelerator": "none",
   "dataSources": [
    {
     "datasetId": 7329643,
     "sourceId": 11678193,
     "sourceType": "datasetVersion"
    }
   ],
   "dockerImageVersionId": 31012,
   "isGpuEnabled": false,
   "isInternetEnabled": true,
   "language": "python",
   "sourceType": "notebook"
  },
  "kernelspec": {
   "display_name": "Python 3",
   "language": "python",
   "name": "python3"
  },
  "language_info": {
   "codemirror_mode": {
    "name": "ipython",
    "version": 3
   },
   "file_extension": ".py",
   "mimetype": "text/x-python",
   "name": "python",
   "nbconvert_exporter": "python",
   "pygments_lexer": "ipython3",
   "version": "3.11.11"
  },
  "papermill": {
   "default_parameters": {},
   "duration": 37.238006,
   "end_time": "2025-05-05T18:53:05.700279",
   "environment_variables": {},
   "exception": null,
   "input_path": "__notebook__.ipynb",
   "output_path": "__notebook__.ipynb",
   "parameters": {},
   "start_time": "2025-05-05T18:52:28.462273",
   "version": "2.6.0"
  }
 },
 "nbformat": 4,
 "nbformat_minor": 5
}
