{
 "cells": [
  {
   "cell_type": "code",
   "execution_count": 1,
   "id": "9dd2722d",
   "metadata": {
    "_cell_guid": "b1076dfc-b9ad-4769-8c92-a6c4dae69d19",
    "_uuid": "8f2839f25d086af736a60e9eeb907d3b93b6e0e5",
    "execution": {
     "iopub.execute_input": "2025-05-05T02:57:41.099506Z",
     "iopub.status.busy": "2025-05-05T02:57:41.099208Z",
     "iopub.status.idle": "2025-05-05T02:57:45.351561Z",
     "shell.execute_reply": "2025-05-05T02:57:45.350842Z"
    },
    "papermill": {
     "duration": 4.259956,
     "end_time": "2025-05-05T02:57:45.353379",
     "exception": false,
     "start_time": "2025-05-05T02:57:41.093423",
     "status": "completed"
    },
    "tags": []
   },
   "outputs": [],
   "source": [
    "import numpy as np\n",
    "import pandas as pd\n",
    "from sklearn.ensemble import RandomForestRegressor\n",
    "from sklearn.model_selection import train_test_split\n",
    "from sklearn.metrics import mean_squared_error, r2_score, mean_absolute_error\n",
    "from sklearn.model_selection import GridSearchCV\n",
    "import seaborn as sns"
   ]
  },
  {
   "cell_type": "code",
   "execution_count": 2,
   "id": "70770b8a",
   "metadata": {
    "execution": {
     "iopub.execute_input": "2025-05-05T02:57:45.362257Z",
     "iopub.status.busy": "2025-05-05T02:57:45.361805Z",
     "iopub.status.idle": "2025-05-05T02:57:45.390750Z",
     "shell.execute_reply": "2025-05-05T02:57:45.389812Z"
    },
    "papermill": {
     "duration": 0.035062,
     "end_time": "2025-05-05T02:57:45.392406",
     "exception": false,
     "start_time": "2025-05-05T02:57:45.357344",
     "status": "completed"
    },
    "tags": []
   },
   "outputs": [],
   "source": [
    "training_data = pd.read_csv('/kaggle/input/mekong-training-testing-set/landsat7_train.csv')\n",
    "testing_data = pd.read_csv('/kaggle/input/mekong-training-testing-set/landsat7_test.csv')"
   ]
  },
  {
   "cell_type": "code",
   "execution_count": 3,
   "id": "d1349bc5",
   "metadata": {
    "execution": {
     "iopub.execute_input": "2025-05-05T02:57:45.400805Z",
     "iopub.status.busy": "2025-05-05T02:57:45.400508Z",
     "iopub.status.idle": "2025-05-05T02:57:45.404753Z",
     "shell.execute_reply": "2025-05-05T02:57:45.404119Z"
    },
    "papermill": {
     "duration": 0.00981,
     "end_time": "2025-05-05T02:57:45.406116",
     "exception": false,
     "start_time": "2025-05-05T02:57:45.396306",
     "status": "completed"
    },
    "tags": []
   },
   "outputs": [],
   "source": [
    "# Change the type into date time\n",
    "def into_datetime(df):\n",
    "    df['date'] = pd.to_datetime(df['date'])\n",
    "    df['month'] = df['date'].dt.month\n",
    "    df['year'] = df['date'].dt.year"
   ]
  },
  {
   "cell_type": "code",
   "execution_count": 4,
   "id": "387db49b",
   "metadata": {
    "execution": {
     "iopub.execute_input": "2025-05-05T02:57:45.414387Z",
     "iopub.status.busy": "2025-05-05T02:57:45.414086Z",
     "iopub.status.idle": "2025-05-05T02:57:45.432707Z",
     "shell.execute_reply": "2025-05-05T02:57:45.431934Z"
    },
    "papermill": {
     "duration": 0.02449,
     "end_time": "2025-05-05T02:57:45.434273",
     "exception": false,
     "start_time": "2025-05-05T02:57:45.409783",
     "status": "completed"
    },
    "tags": []
   },
   "outputs": [],
   "source": [
    "into_datetime(training_data)\n",
    "into_datetime(testing_data)"
   ]
  },
  {
   "cell_type": "code",
   "execution_count": 5,
   "id": "31c5942d",
   "metadata": {
    "execution": {
     "iopub.execute_input": "2025-05-05T02:57:45.442378Z",
     "iopub.status.busy": "2025-05-05T02:57:45.442101Z",
     "iopub.status.idle": "2025-05-05T02:57:45.464968Z",
     "shell.execute_reply": "2025-05-05T02:57:45.463937Z"
    },
    "papermill": {
     "duration": 0.028387,
     "end_time": "2025-05-05T02:57:45.466410",
     "exception": false,
     "start_time": "2025-05-05T02:57:45.438023",
     "status": "completed"
    },
    "tags": []
   },
   "outputs": [
    {
     "name": "stdout",
     "output_type": "stream",
     "text": [
      "<class 'pandas.core.frame.DataFrame'>\n",
      "RangeIndex: 56 entries, 0 to 55\n",
      "Data columns (total 38 columns):\n",
      " #   Column     Non-Null Count  Dtype         \n",
      "---  ------     --------------  -----         \n",
      " 0   AWEInsh    56 non-null     float64       \n",
      " 1   AWEIsh     56 non-null     float64       \n",
      " 2   MNDWI      56 non-null     float64       \n",
      " 3   NDWI       56 non-null     float64       \n",
      " 4   SR_B1      56 non-null     float64       \n",
      " 5   SR_B2      56 non-null     float64       \n",
      " 6   SR_B3      56 non-null     float64       \n",
      " 7   SR_B4      56 non-null     float64       \n",
      " 8   SR_B5      56 non-null     float64       \n",
      " 9   SR_B7      56 non-null     float64       \n",
      " 10  ST_B6      56 non-null     float64       \n",
      " 11  WI1        56 non-null     float64       \n",
      " 12  WI2        56 non-null     float64       \n",
      " 13  date       56 non-null     datetime64[ns]\n",
      " 14  pivot      56 non-null     int64         \n",
      " 15  reducer    56 non-null     object        \n",
      " 16  source     56 non-null     object        \n",
      " 17  Station    56 non-null     object        \n",
      " 18  Latitude   56 non-null     float64       \n",
      " 19  Longitude  56 non-null     float64       \n",
      " 20  1          56 non-null     float64       \n",
      " 21  3          56 non-null     float64       \n",
      " 22  5          56 non-null     float64       \n",
      " 23  7          56 non-null     float64       \n",
      " 24  9          56 non-null     float64       \n",
      " 25  11         56 non-null     float64       \n",
      " 26  13         56 non-null     float64       \n",
      " 27  15         56 non-null     float64       \n",
      " 28  17         56 non-null     float64       \n",
      " 29  19         56 non-null     float64       \n",
      " 30  21         56 non-null     float64       \n",
      " 31  23         56 non-null     float64       \n",
      " 32  min        56 non-null     float64       \n",
      " 33  max        56 non-null     float64       \n",
      " 34  mean       56 non-null     float64       \n",
      " 35  median     56 non-null     float64       \n",
      " 36  month      56 non-null     int32         \n",
      " 37  year       56 non-null     int32         \n",
      "dtypes: datetime64[ns](1), float64(31), int32(2), int64(1), object(3)\n",
      "memory usage: 16.3+ KB\n"
     ]
    }
   ],
   "source": [
    "training_data.info()"
   ]
  },
  {
   "cell_type": "code",
   "execution_count": 6,
   "id": "71a59a6a",
   "metadata": {
    "execution": {
     "iopub.execute_input": "2025-05-05T02:57:45.475199Z",
     "iopub.status.busy": "2025-05-05T02:57:45.474400Z",
     "iopub.status.idle": "2025-05-05T02:57:45.486279Z",
     "shell.execute_reply": "2025-05-05T02:57:45.485205Z"
    },
    "papermill": {
     "duration": 0.017604,
     "end_time": "2025-05-05T02:57:45.487866",
     "exception": false,
     "start_time": "2025-05-05T02:57:45.470262",
     "status": "completed"
    },
    "tags": []
   },
   "outputs": [
    {
     "name": "stdout",
     "output_type": "stream",
     "text": [
      "<class 'pandas.core.frame.DataFrame'>\n",
      "RangeIndex: 11 entries, 0 to 10\n",
      "Data columns (total 38 columns):\n",
      " #   Column     Non-Null Count  Dtype         \n",
      "---  ------     --------------  -----         \n",
      " 0   AWEInsh    11 non-null     float64       \n",
      " 1   AWEIsh     11 non-null     float64       \n",
      " 2   MNDWI      11 non-null     float64       \n",
      " 3   NDWI       11 non-null     float64       \n",
      " 4   SR_B1      11 non-null     float64       \n",
      " 5   SR_B2      11 non-null     float64       \n",
      " 6   SR_B3      11 non-null     float64       \n",
      " 7   SR_B4      11 non-null     float64       \n",
      " 8   SR_B5      11 non-null     float64       \n",
      " 9   SR_B7      11 non-null     float64       \n",
      " 10  ST_B6      11 non-null     float64       \n",
      " 11  WI1        11 non-null     float64       \n",
      " 12  WI2        11 non-null     float64       \n",
      " 13  date       11 non-null     datetime64[ns]\n",
      " 14  pivot      11 non-null     int64         \n",
      " 15  reducer    11 non-null     object        \n",
      " 16  source     11 non-null     object        \n",
      " 17  Station    11 non-null     object        \n",
      " 18  Latitude   11 non-null     float64       \n",
      " 19  Longitude  11 non-null     float64       \n",
      " 20  1          11 non-null     float64       \n",
      " 21  3          11 non-null     float64       \n",
      " 22  5          11 non-null     float64       \n",
      " 23  7          11 non-null     float64       \n",
      " 24  9          11 non-null     float64       \n",
      " 25  11         11 non-null     float64       \n",
      " 26  13         11 non-null     float64       \n",
      " 27  15         11 non-null     float64       \n",
      " 28  17         11 non-null     float64       \n",
      " 29  19         11 non-null     float64       \n",
      " 30  21         11 non-null     float64       \n",
      " 31  23         11 non-null     float64       \n",
      " 32  min        11 non-null     float64       \n",
      " 33  max        11 non-null     float64       \n",
      " 34  mean       11 non-null     float64       \n",
      " 35  median     11 non-null     float64       \n",
      " 36  month      11 non-null     int32         \n",
      " 37  year       11 non-null     int32         \n",
      "dtypes: datetime64[ns](1), float64(31), int32(2), int64(1), object(3)\n",
      "memory usage: 3.3+ KB\n"
     ]
    }
   ],
   "source": [
    "testing_data.info()"
   ]
  },
  {
   "cell_type": "code",
   "execution_count": 7,
   "id": "d1d4ff41",
   "metadata": {
    "execution": {
     "iopub.execute_input": "2025-05-05T02:57:45.496797Z",
     "iopub.status.busy": "2025-05-05T02:57:45.496478Z",
     "iopub.status.idle": "2025-05-05T02:57:45.500395Z",
     "shell.execute_reply": "2025-05-05T02:57:45.499733Z"
    },
    "papermill": {
     "duration": 0.009815,
     "end_time": "2025-05-05T02:57:45.501599",
     "exception": false,
     "start_time": "2025-05-05T02:57:45.491784",
     "status": "completed"
    },
    "tags": []
   },
   "outputs": [],
   "source": [
    "features = [ 'SR_B4', 'SR_B5', 'SR_B7',\n",
    "    'ST_B6', 'WI1', 'WI2', 'month', 'year', 'Latitude', 'Longitude'\n",
    "]"
   ]
  },
  {
   "cell_type": "code",
   "execution_count": 8,
   "id": "dffbb94e",
   "metadata": {
    "execution": {
     "iopub.execute_input": "2025-05-05T02:57:45.510247Z",
     "iopub.status.busy": "2025-05-05T02:57:45.509976Z",
     "iopub.status.idle": "2025-05-05T02:57:45.513805Z",
     "shell.execute_reply": "2025-05-05T02:57:45.513146Z"
    },
    "papermill": {
     "duration": 0.009434,
     "end_time": "2025-05-05T02:57:45.515150",
     "exception": false,
     "start_time": "2025-05-05T02:57:45.505716",
     "status": "completed"
    },
    "tags": []
   },
   "outputs": [],
   "source": [
    "target = 'max'"
   ]
  },
  {
   "cell_type": "code",
   "execution_count": 9,
   "id": "877b3941",
   "metadata": {
    "execution": {
     "iopub.execute_input": "2025-05-05T02:57:45.523386Z",
     "iopub.status.busy": "2025-05-05T02:57:45.523122Z",
     "iopub.status.idle": "2025-05-05T02:57:45.530505Z",
     "shell.execute_reply": "2025-05-05T02:57:45.529925Z"
    },
    "papermill": {
     "duration": 0.012829,
     "end_time": "2025-05-05T02:57:45.531741",
     "exception": false,
     "start_time": "2025-05-05T02:57:45.518912",
     "status": "completed"
    },
    "tags": []
   },
   "outputs": [],
   "source": [
    "# Split data\n",
    "X_train = training_data[features]\n",
    "y_train = training_data[target]\n",
    "X_test = testing_data[features]\n",
    "y_test = testing_data[target]"
   ]
  },
  {
   "cell_type": "code",
   "execution_count": 10,
   "id": "91118723",
   "metadata": {
    "execution": {
     "iopub.execute_input": "2025-05-05T02:57:45.539710Z",
     "iopub.status.busy": "2025-05-05T02:57:45.539391Z",
     "iopub.status.idle": "2025-05-05T02:57:45.542775Z",
     "shell.execute_reply": "2025-05-05T02:57:45.542153Z"
    },
    "papermill": {
     "duration": 0.008645,
     "end_time": "2025-05-05T02:57:45.543954",
     "exception": false,
     "start_time": "2025-05-05T02:57:45.535309",
     "status": "completed"
    },
    "tags": []
   },
   "outputs": [],
   "source": [
    "# Apply log-transform to target (use log1p to handle zeros)\n",
    "#y_train_log = np.log1p(training_data[target])"
   ]
  },
  {
   "cell_type": "code",
   "execution_count": 11,
   "id": "6a40264e",
   "metadata": {
    "execution": {
     "iopub.execute_input": "2025-05-05T02:57:45.552078Z",
     "iopub.status.busy": "2025-05-05T02:57:45.551777Z",
     "iopub.status.idle": "2025-05-05T02:57:45.556315Z",
     "shell.execute_reply": "2025-05-05T02:57:45.555555Z"
    },
    "papermill": {
     "duration": 0.010054,
     "end_time": "2025-05-05T02:57:45.557624",
     "exception": false,
     "start_time": "2025-05-05T02:57:45.547570",
     "status": "completed"
    },
    "tags": []
   },
   "outputs": [],
   "source": [
    "param_grid = {\n",
    "    'n_estimators': [100, 200],            # Reduce number of trees\n",
    "    'max_depth': [5, 10],                  # Prevent very deep trees\n",
    "    'min_samples_split': [5, 10],          # More conservative splits\n",
    "    'min_samples_leaf': [4, 6, 8],         # Leaf must have enough samples\n",
    "    'max_features': ['sqrt', 0.3]          # Reduce feature randomness\n",
    "}"
   ]
  },
  {
   "cell_type": "code",
   "execution_count": 12,
   "id": "0effb49e",
   "metadata": {
    "execution": {
     "iopub.execute_input": "2025-05-05T02:57:45.565755Z",
     "iopub.status.busy": "2025-05-05T02:57:45.565486Z",
     "iopub.status.idle": "2025-05-05T02:57:45.570141Z",
     "shell.execute_reply": "2025-05-05T02:57:45.569355Z"
    },
    "papermill": {
     "duration": 0.010188,
     "end_time": "2025-05-05T02:57:45.571401",
     "exception": false,
     "start_time": "2025-05-05T02:57:45.561213",
     "status": "completed"
    },
    "tags": []
   },
   "outputs": [],
   "source": [
    "# Initialize and run GridSearchCV\n",
    "rf = RandomForestRegressor(random_state=42)\n",
    "grid_search = GridSearchCV(estimator=rf,\n",
    "                           param_grid=param_grid,\n",
    "                           cv=5,\n",
    "                           scoring='neg_mean_squared_error',\n",
    "                           n_jobs=-1,\n",
    "                           verbose=2)"
   ]
  },
  {
   "cell_type": "code",
   "execution_count": 13,
   "id": "43d8ef70",
   "metadata": {
    "execution": {
     "iopub.execute_input": "2025-05-05T02:57:45.579863Z",
     "iopub.status.busy": "2025-05-05T02:57:45.579584Z",
     "iopub.status.idle": "2025-05-05T02:58:07.424340Z",
     "shell.execute_reply": "2025-05-05T02:58:07.423420Z"
    },
    "papermill": {
     "duration": 21.850679,
     "end_time": "2025-05-05T02:58:07.425915",
     "exception": false,
     "start_time": "2025-05-05T02:57:45.575236",
     "status": "completed"
    },
    "tags": []
   },
   "outputs": [
    {
     "name": "stdout",
     "output_type": "stream",
     "text": [
      "Fitting 5 folds for each of 48 candidates, totalling 240 fits\n"
     ]
    },
    {
     "data": {
      "text/html": [
       "<style>#sk-container-id-1 {color: black;background-color: white;}#sk-container-id-1 pre{padding: 0;}#sk-container-id-1 div.sk-toggleable {background-color: white;}#sk-container-id-1 label.sk-toggleable__label {cursor: pointer;display: block;width: 100%;margin-bottom: 0;padding: 0.3em;box-sizing: border-box;text-align: center;}#sk-container-id-1 label.sk-toggleable__label-arrow:before {content: \"▸\";float: left;margin-right: 0.25em;color: #696969;}#sk-container-id-1 label.sk-toggleable__label-arrow:hover:before {color: black;}#sk-container-id-1 div.sk-estimator:hover label.sk-toggleable__label-arrow:before {color: black;}#sk-container-id-1 div.sk-toggleable__content {max-height: 0;max-width: 0;overflow: hidden;text-align: left;background-color: #f0f8ff;}#sk-container-id-1 div.sk-toggleable__content pre {margin: 0.2em;color: black;border-radius: 0.25em;background-color: #f0f8ff;}#sk-container-id-1 input.sk-toggleable__control:checked~div.sk-toggleable__content {max-height: 200px;max-width: 100%;overflow: auto;}#sk-container-id-1 input.sk-toggleable__control:checked~label.sk-toggleable__label-arrow:before {content: \"▾\";}#sk-container-id-1 div.sk-estimator input.sk-toggleable__control:checked~label.sk-toggleable__label {background-color: #d4ebff;}#sk-container-id-1 div.sk-label input.sk-toggleable__control:checked~label.sk-toggleable__label {background-color: #d4ebff;}#sk-container-id-1 input.sk-hidden--visually {border: 0;clip: rect(1px 1px 1px 1px);clip: rect(1px, 1px, 1px, 1px);height: 1px;margin: -1px;overflow: hidden;padding: 0;position: absolute;width: 1px;}#sk-container-id-1 div.sk-estimator {font-family: monospace;background-color: #f0f8ff;border: 1px dotted black;border-radius: 0.25em;box-sizing: border-box;margin-bottom: 0.5em;}#sk-container-id-1 div.sk-estimator:hover {background-color: #d4ebff;}#sk-container-id-1 div.sk-parallel-item::after {content: \"\";width: 100%;border-bottom: 1px solid gray;flex-grow: 1;}#sk-container-id-1 div.sk-label:hover label.sk-toggleable__label {background-color: #d4ebff;}#sk-container-id-1 div.sk-serial::before {content: \"\";position: absolute;border-left: 1px solid gray;box-sizing: border-box;top: 0;bottom: 0;left: 50%;z-index: 0;}#sk-container-id-1 div.sk-serial {display: flex;flex-direction: column;align-items: center;background-color: white;padding-right: 0.2em;padding-left: 0.2em;position: relative;}#sk-container-id-1 div.sk-item {position: relative;z-index: 1;}#sk-container-id-1 div.sk-parallel {display: flex;align-items: stretch;justify-content: center;background-color: white;position: relative;}#sk-container-id-1 div.sk-item::before, #sk-container-id-1 div.sk-parallel-item::before {content: \"\";position: absolute;border-left: 1px solid gray;box-sizing: border-box;top: 0;bottom: 0;left: 50%;z-index: -1;}#sk-container-id-1 div.sk-parallel-item {display: flex;flex-direction: column;z-index: 1;position: relative;background-color: white;}#sk-container-id-1 div.sk-parallel-item:first-child::after {align-self: flex-end;width: 50%;}#sk-container-id-1 div.sk-parallel-item:last-child::after {align-self: flex-start;width: 50%;}#sk-container-id-1 div.sk-parallel-item:only-child::after {width: 0;}#sk-container-id-1 div.sk-dashed-wrapped {border: 1px dashed gray;margin: 0 0.4em 0.5em 0.4em;box-sizing: border-box;padding-bottom: 0.4em;background-color: white;}#sk-container-id-1 div.sk-label label {font-family: monospace;font-weight: bold;display: inline-block;line-height: 1.2em;}#sk-container-id-1 div.sk-label-container {text-align: center;}#sk-container-id-1 div.sk-container {/* jupyter's `normalize.less` sets `[hidden] { display: none; }` but bootstrap.min.css set `[hidden] { display: none !important; }` so we also need the `!important` here to be able to override the default hidden behavior on the sphinx rendered scikit-learn.org. See: https://github.com/scikit-learn/scikit-learn/issues/21755 */display: inline-block !important;position: relative;}#sk-container-id-1 div.sk-text-repr-fallback {display: none;}</style><div id=\"sk-container-id-1\" class=\"sk-top-container\"><div class=\"sk-text-repr-fallback\"><pre>GridSearchCV(cv=5, estimator=RandomForestRegressor(random_state=42), n_jobs=-1,\n",
       "             param_grid={&#x27;max_depth&#x27;: [5, 10], &#x27;max_features&#x27;: [&#x27;sqrt&#x27;, 0.3],\n",
       "                         &#x27;min_samples_leaf&#x27;: [4, 6, 8],\n",
       "                         &#x27;min_samples_split&#x27;: [5, 10],\n",
       "                         &#x27;n_estimators&#x27;: [100, 200]},\n",
       "             scoring=&#x27;neg_mean_squared_error&#x27;, verbose=2)</pre><b>In a Jupyter environment, please rerun this cell to show the HTML representation or trust the notebook. <br />On GitHub, the HTML representation is unable to render, please try loading this page with nbviewer.org.</b></div><div class=\"sk-container\" hidden><div class=\"sk-item sk-dashed-wrapped\"><div class=\"sk-label-container\"><div class=\"sk-label sk-toggleable\"><input class=\"sk-toggleable__control sk-hidden--visually\" id=\"sk-estimator-id-1\" type=\"checkbox\" ><label for=\"sk-estimator-id-1\" class=\"sk-toggleable__label sk-toggleable__label-arrow\">GridSearchCV</label><div class=\"sk-toggleable__content\"><pre>GridSearchCV(cv=5, estimator=RandomForestRegressor(random_state=42), n_jobs=-1,\n",
       "             param_grid={&#x27;max_depth&#x27;: [5, 10], &#x27;max_features&#x27;: [&#x27;sqrt&#x27;, 0.3],\n",
       "                         &#x27;min_samples_leaf&#x27;: [4, 6, 8],\n",
       "                         &#x27;min_samples_split&#x27;: [5, 10],\n",
       "                         &#x27;n_estimators&#x27;: [100, 200]},\n",
       "             scoring=&#x27;neg_mean_squared_error&#x27;, verbose=2)</pre></div></div></div><div class=\"sk-parallel\"><div class=\"sk-parallel-item\"><div class=\"sk-item\"><div class=\"sk-label-container\"><div class=\"sk-label sk-toggleable\"><input class=\"sk-toggleable__control sk-hidden--visually\" id=\"sk-estimator-id-2\" type=\"checkbox\" ><label for=\"sk-estimator-id-2\" class=\"sk-toggleable__label sk-toggleable__label-arrow\">estimator: RandomForestRegressor</label><div class=\"sk-toggleable__content\"><pre>RandomForestRegressor(random_state=42)</pre></div></div></div><div class=\"sk-serial\"><div class=\"sk-item\"><div class=\"sk-estimator sk-toggleable\"><input class=\"sk-toggleable__control sk-hidden--visually\" id=\"sk-estimator-id-3\" type=\"checkbox\" ><label for=\"sk-estimator-id-3\" class=\"sk-toggleable__label sk-toggleable__label-arrow\">RandomForestRegressor</label><div class=\"sk-toggleable__content\"><pre>RandomForestRegressor(random_state=42)</pre></div></div></div></div></div></div></div></div></div></div>"
      ],
      "text/plain": [
       "GridSearchCV(cv=5, estimator=RandomForestRegressor(random_state=42), n_jobs=-1,\n",
       "             param_grid={'max_depth': [5, 10], 'max_features': ['sqrt', 0.3],\n",
       "                         'min_samples_leaf': [4, 6, 8],\n",
       "                         'min_samples_split': [5, 10],\n",
       "                         'n_estimators': [100, 200]},\n",
       "             scoring='neg_mean_squared_error', verbose=2)"
      ]
     },
     "execution_count": 13,
     "metadata": {},
     "output_type": "execute_result"
    }
   ],
   "source": [
    "grid_search.fit(X_train, y_train)"
   ]
  },
  {
   "cell_type": "code",
   "execution_count": 14,
   "id": "5d7247e8",
   "metadata": {
    "execution": {
     "iopub.execute_input": "2025-05-05T02:58:07.435586Z",
     "iopub.status.busy": "2025-05-05T02:58:07.435276Z",
     "iopub.status.idle": "2025-05-05T02:58:07.439834Z",
     "shell.execute_reply": "2025-05-05T02:58:07.438946Z"
    },
    "papermill": {
     "duration": 0.010947,
     "end_time": "2025-05-05T02:58:07.441236",
     "exception": false,
     "start_time": "2025-05-05T02:58:07.430289",
     "status": "completed"
    },
    "tags": []
   },
   "outputs": [],
   "source": [
    "# Best model\n",
    "best_model = grid_search.best_estimator_"
   ]
  },
  {
   "cell_type": "code",
   "execution_count": 15,
   "id": "648c4f4a",
   "metadata": {
    "execution": {
     "iopub.execute_input": "2025-05-05T02:58:07.450323Z",
     "iopub.status.busy": "2025-05-05T02:58:07.450031Z",
     "iopub.status.idle": "2025-05-05T02:58:07.464130Z",
     "shell.execute_reply": "2025-05-05T02:58:07.463409Z"
    },
    "papermill": {
     "duration": 0.020095,
     "end_time": "2025-05-05T02:58:07.465504",
     "exception": false,
     "start_time": "2025-05-05T02:58:07.445409",
     "status": "completed"
    },
    "tags": []
   },
   "outputs": [],
   "source": [
    "# Predict (inverse log1p → expm1)\n",
    "y_pred = best_model.predict(X_test)"
   ]
  },
  {
   "cell_type": "code",
   "execution_count": 16,
   "id": "dc5ca553",
   "metadata": {
    "execution": {
     "iopub.execute_input": "2025-05-05T02:58:07.474755Z",
     "iopub.status.busy": "2025-05-05T02:58:07.474440Z",
     "iopub.status.idle": "2025-05-05T02:58:07.480581Z",
     "shell.execute_reply": "2025-05-05T02:58:07.479893Z"
    },
    "papermill": {
     "duration": 0.01225,
     "end_time": "2025-05-05T02:58:07.481808",
     "exception": false,
     "start_time": "2025-05-05T02:58:07.469558",
     "status": "completed"
    },
    "tags": []
   },
   "outputs": [],
   "source": [
    "def wmape(y_true, y_pred):\n",
    "    return 100 * np.sum(np.abs(y_true - y_pred)) / (np.sum(np.abs(y_true)) + 1e-8)\n",
    "\n",
    "def evaluate_model(model, X, y, dataset_name=\"\"):\n",
    "    y_pred = model.predict(X)\n",
    "    rmse = mean_squared_error(y, y_pred, squared=False)\n",
    "    r2 = r2_score(y, y_pred)\n",
    "    mae = mean_absolute_error(y, y_pred)\n",
    "    wmape_score = wmape(y, y_pred)\n",
    "\n",
    "    print(f\"\\n📊 Evaluation on {dataset_name} Set:\")\n",
    "    print(f\"• RMSE  : {rmse:.4f}\")\n",
    "    print(f\"• R²    : {r2:.4f}\")\n",
    "    print(f\"• MAE   : {mae:.4f}\")\n",
    "    print(f\"• WMAPE : {wmape_score:.2f}%\")"
   ]
  },
  {
   "cell_type": "code",
   "execution_count": 17,
   "id": "62237e96",
   "metadata": {
    "execution": {
     "iopub.execute_input": "2025-05-05T02:58:07.491272Z",
     "iopub.status.busy": "2025-05-05T02:58:07.490488Z",
     "iopub.status.idle": "2025-05-05T02:58:07.507459Z",
     "shell.execute_reply": "2025-05-05T02:58:07.506526Z"
    },
    "papermill": {
     "duration": 0.022992,
     "end_time": "2025-05-05T02:58:07.508795",
     "exception": false,
     "start_time": "2025-05-05T02:58:07.485803",
     "status": "completed"
    },
    "tags": []
   },
   "outputs": [
    {
     "name": "stdout",
     "output_type": "stream",
     "text": [
      "\n",
      "📊 Evaluation on Training Set:\n",
      "• RMSE  : 4.3985\n",
      "• R²    : 0.6730\n",
      "• MAE   : 3.4515\n",
      "• WMAPE : 32.61%\n"
     ]
    }
   ],
   "source": [
    "# Evaluate on both sets\n",
    "evaluate_model(best_model, X_train, y_train, \"Training\")\n"
   ]
  },
  {
   "cell_type": "code",
   "execution_count": 18,
   "id": "288b7618",
   "metadata": {
    "execution": {
     "iopub.execute_input": "2025-05-05T02:58:07.518209Z",
     "iopub.status.busy": "2025-05-05T02:58:07.517920Z",
     "iopub.status.idle": "2025-05-05T02:58:07.534281Z",
     "shell.execute_reply": "2025-05-05T02:58:07.533300Z"
    },
    "papermill": {
     "duration": 0.022481,
     "end_time": "2025-05-05T02:58:07.535638",
     "exception": false,
     "start_time": "2025-05-05T02:58:07.513157",
     "status": "completed"
    },
    "tags": []
   },
   "outputs": [
    {
     "name": "stdout",
     "output_type": "stream",
     "text": [
      "\n",
      "📊 Evaluation on Testing Set:\n",
      "• RMSE  : 3.6382\n",
      "• R²    : 0.7372\n",
      "• MAE   : 2.9465\n",
      "• WMAPE : 39.72%\n"
     ]
    }
   ],
   "source": [
    "evaluate_model(best_model, X_test, y_test, \"Testing\")"
   ]
  },
  {
   "cell_type": "code",
   "execution_count": 19,
   "id": "dc7826e2",
   "metadata": {
    "execution": {
     "iopub.execute_input": "2025-05-05T02:58:07.545283Z",
     "iopub.status.busy": "2025-05-05T02:58:07.544993Z",
     "iopub.status.idle": "2025-05-05T02:58:07.899395Z",
     "shell.execute_reply": "2025-05-05T02:58:07.898455Z"
    },
    "papermill": {
     "duration": 0.360827,
     "end_time": "2025-05-05T02:58:07.900845",
     "exception": false,
     "start_time": "2025-05-05T02:58:07.540018",
     "status": "completed"
    },
    "tags": []
   },
   "outputs": [
    {
     "data": {
      "image/png": "[encoded data removed]",
      "text/plain": [
       "<Figure size 700x600 with 1 Axes>"
      ]
     },
     "metadata": {},
     "output_type": "display_data"
    }
   ],
   "source": [
    "import matplotlib.pyplot as plt\n",
    "import seaborn as sns\n",
    "\n",
    "plt.figure(figsize=(7, 6))\n",
    "sns.scatterplot(x=y_test, y=y_pred, alpha=0.7, edgecolor=None)\n",
    "\n",
    "# Add 1:1 reference line\n",
    "min_val = min(y_test.min(), y_pred.min())\n",
    "max_val = max(y_test.max(), y_pred.max())\n",
    "plt.plot([min_val, max_val], [min_val, max_val], '--', color='red', label='1:1 Line')\n",
    "\n",
    "plt.xlabel('Actual Salinity')\n",
    "plt.ylabel('Predicted Salinity')\n",
    "plt.title('Predicted vs Actual Salinity (Test Set)')\n",
    "plt.legend()\n",
    "plt.grid(True)\n",
    "plt.tight_layout()\n",
    "plt.show()"
   ]
  }
 ],
 "metadata": {
  "kaggle": {
   "accelerator": "none",
   "dataSources": [
    {
     "datasetId": 7329643,
     "sourceId": 11678193,
     "sourceType": "datasetVersion"
    }
   ],
   "dockerImageVersionId": 31012,
   "isGpuEnabled": false,
   "isInternetEnabled": true,
   "language": "python",
   "sourceType": "notebook"
  },
  "kernelspec": {
   "display_name": "Python 3",
   "language": "python",
   "name": "python3"
  },
  "language_info": {
   "codemirror_mode": {
    "name": "ipython",
    "version": 3
   },
   "file_extension": ".py",
   "mimetype": "text/x-python",
   "name": "python",
   "nbconvert_exporter": "python",
   "pygments_lexer": "ipython3",
   "version": "3.11.11"
  },
  "papermill": {
   "default_parameters": {},
   "duration": 34.123587,
   "end_time": "2025-05-05T02:58:10.525409",
   "environment_variables": {},
   "exception": null,
   "input_path": "__notebook__.ipynb",
   "output_path": "__notebook__.ipynb",
   "parameters": {},
   "start_time": "2025-05-05T02:57:36.401822",
   "version": "2.6.0"
  }
 },
 "nbformat": 4,
 "nbformat_minor": 5
}
